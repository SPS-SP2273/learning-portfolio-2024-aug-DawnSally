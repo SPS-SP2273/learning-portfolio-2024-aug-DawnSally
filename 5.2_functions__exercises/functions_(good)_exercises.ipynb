{
 "cells": [
  {
   "attachments": {},
   "cell_type": "markdown",
   "id": "123456",
   "metadata": {},
   "source": [
    "<div style=\"text-align:left;font-size:2em\"><span style=\"font-weight:bolder;font-size:1.25em\">SP2273 | Learning Portfolio</span><br><br><span style=\"font-weight:bold;color:darkred\">Functions (Good) Exercises</span></div>"
   ]
  },
  {
   "cell_type": "markdown",
   "id": "8ac2266b-49c4-4685-a31b-f7380bfd1c43",
   "metadata": {},
   "source": [
    "## Exercise 1 (Celsius to Fahrenheit or Kelvin)"
   ]
  },
  {
   "cell_type": "code",
   "execution_count": 5,
   "id": "cf6f5768-7da4-4e1d-a670-7131a6599f94",
   "metadata": {},
   "outputs": [],
   "source": [
    "def convert_celsius(temperature_celsius, target_scale):\n",
    "    if target_scale == 'Kelvin':\n",
    "        return(temperature_celsius + 273.15) \n",
    "    else:\n",
    "        return((temperature_celsius * 9/5) + 32) \n",
    "        \n",
    "    \n"
   ]
  },
  {
   "cell_type": "code",
   "execution_count": 6,
   "id": "b56728be-17ad-4a5a-8025-2432bd499b97",
   "metadata": {},
   "outputs": [
    {
     "data": {
      "text/plain": [
       "298.15"
      ]
     },
     "execution_count": 6,
     "metadata": {},
     "output_type": "execute_result"
    }
   ],
   "source": [
    "convert_celsius(25, target_scale = \"Kelvin\")"
   ]
  },
  {
   "cell_type": "code",
   "execution_count": 7,
   "id": "95829520-7b29-49b9-a503-bb061f047288",
   "metadata": {},
   "outputs": [
    {
     "data": {
      "text/plain": [
       "77.0"
      ]
     },
     "execution_count": 7,
     "metadata": {},
     "output_type": "execute_result"
    }
   ],
   "source": [
    "convert_celsius(25, target_scale = \"Fahrenheit\")"
   ]
  },
  {
   "cell_type": "markdown",
   "id": "260c937b-b975-45a4-922d-71d47fb7e980",
   "metadata": {},
   "source": [
    "## Exercise 2 (Fahrenheit to Celsius or Kelvin)"
   ]
  },
  {
   "cell_type": "code",
   "execution_count": 8,
   "id": "8c89d792-724d-4d22-bf1f-1cf180d88b32",
   "metadata": {},
   "outputs": [],
   "source": [
    "def convert_fahrenheit(temperature_fahrenheit, target_scale):\n",
    "    if target_scale == 'Kelvin':\n",
    "        return((temperature_fahrenheit + 459.67) * 5/9) \n",
    "    else:\n",
    "        return((temperature_fahrenheit - 32) * 5/9) \n"
   ]
  },
  {
   "cell_type": "code",
   "execution_count": 9,
   "id": "d1ae5c77-1ed9-40b4-ba9a-5e6381017fc6",
   "metadata": {},
   "outputs": [
    {
     "data": {
      "text/plain": [
       "269.2611111111111"
      ]
     },
     "execution_count": 9,
     "metadata": {},
     "output_type": "execute_result"
    }
   ],
   "source": [
    "convert_fahrenheit(25, target_scale = \"Kelvin\")"
   ]
  },
  {
   "cell_type": "code",
   "execution_count": 10,
   "id": "1cadddac-af3c-4c65-b250-25fb727db198",
   "metadata": {},
   "outputs": [
    {
     "data": {
      "text/plain": [
       "-3.888888888888889"
      ]
     },
     "execution_count": 10,
     "metadata": {},
     "output_type": "execute_result"
    }
   ],
   "source": [
    "convert_fahrenheit(25, target_scale = \"Celsius\")"
   ]
  },
  {
   "cell_type": "markdown",
   "id": "0302d0a8-1881-4ce3-893b-aac10ed50aae",
   "metadata": {},
   "source": [
    "# Exercise 3 (General Temperature Conversion)"
   ]
  },
  {
   "cell_type": "code",
   "execution_count": 11,
   "id": "94a05f9e-ac8b-46b5-8b04-3555e028042d",
   "metadata": {},
   "outputs": [],
   "source": [
    "def convert_temperature(temperature,source_scale,target_scale):\n",
    "    if source_scale == 'Celsius':\n",
    "        return convert_celsius(temperature,target_scale)\n",
    "    if source_scale == 'Fahrenheit':\n",
    "        return convert_fahrenheit(temperature,target_scale)\n",
    "    if source_scale == 'Kelvin':\n",
    "        if target_scale == 'Celsius':\n",
    "            return(temperature - 273.15)\n",
    "        else:\n",
    "            return(((temperature - 273.15)*9/5) + 32)\n",
    "           \n",
    "        "
   ]
  },
  {
   "cell_type": "code",
   "execution_count": 12,
   "id": "1e59e7e7-26e7-4dbd-801a-222650cf555c",
   "metadata": {},
   "outputs": [
    {
     "data": {
      "text/plain": [
       "418.15"
      ]
     },
     "execution_count": 12,
     "metadata": {},
     "output_type": "execute_result"
    }
   ],
   "source": [
    "convert_temperature(145, source_scale = \"Celsius\", target_scale = \"Kelvin\")"
   ]
  },
  {
   "cell_type": "code",
   "execution_count": 13,
   "id": "55dd2074-f644-4f73-87a4-788e47ee83a1",
   "metadata": {},
   "outputs": [
    {
     "data": {
      "text/plain": [
       "310.9277777777778"
      ]
     },
     "execution_count": 13,
     "metadata": {},
     "output_type": "execute_result"
    }
   ],
   "source": [
    "convert_temperature(100, source_scale = \"Fahrenheit\", target_scale = \"Kelvin\")"
   ]
  },
  {
   "cell_type": "code",
   "execution_count": 14,
   "id": "402eff2d-ba55-45d6-8245-fdc0acbf81cc",
   "metadata": {},
   "outputs": [
    {
     "data": {
      "text/plain": [
       "-28.149999999999977"
      ]
     },
     "execution_count": 14,
     "metadata": {},
     "output_type": "execute_result"
    }
   ],
   "source": [
    "convert_temperature(245, source_scale = \"Kelvin\", target_scale = \"Celsius\")"
   ]
  }
 ],
 "metadata": {
  "kernelspec": {
   "display_name": "Python 3 (ipykernel)",
   "language": "python",
   "name": "python3"
  },
  "language_info": {
   "codemirror_mode": {
    "name": "ipython",
    "version": 3
   },
   "file_extension": ".py",
   "mimetype": "text/x-python",
   "name": "python",
   "nbconvert_exporter": "python",
   "pygments_lexer": "ipython3",
   "version": "3.12.3"
  },
  "toc": {
   "base_numbering": 1,
   "nav_menu": {},
   "number_sections": true,
   "sideBar": true,
   "skip_h1_title": false,
   "title_cell": "Table of Contents",
   "title_sidebar": "Contents",
   "toc_cell": false,
   "toc_position": {},
   "toc_section_display": true,
   "toc_window_display": false
  },
  "vscode": {
   "interpreter": {
    "hash": "31f2aee4e71d21fbe5cf8b01ff0e069b9275f58929596ceb00d14d90e3e16cd6"
   }
  }
 },
 "nbformat": 4,
 "nbformat_minor": 5
}
