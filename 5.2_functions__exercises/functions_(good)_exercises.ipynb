{
 "cells": [
  {
   "attachments": {},
   "cell_type": "markdown",
   "id": "123456",
   "metadata": {},
   "source": [
    "<div style=\"text-align:left;font-size:2em\"><span style=\"font-weight:bolder;font-size:1.25em\">SP2273 | Learning Portfolio</span><br><br><span style=\"font-weight:bold;color:darkred\">Functions (Good) Exercises</span></div>"
   ]
  },
  {
   "cell_type": "markdown",
   "id": "8ac2266b-49c4-4685-a31b-f7380bfd1c43",
   "metadata": {},
   "source": [
    "## Exercise 1 (Celsius to Fahrenheit or Kelvin)"
   ]
  },
  {
   "cell_type": "code",
   "execution_count": 8,
   "id": "cf6f5768-7da4-4e1d-a670-7131a6599f94",
   "metadata": {},
   "outputs": [
    {
     "name": "stdin",
     "output_type": "stream",
     "text": [
      "Temperature in celsius: 18\n",
      "Fahrenheit or Kelvin: Kelvin\n"
     ]
    },
    {
     "name": "stdout",
     "output_type": "stream",
     "text": [
      "Temperature in Kelvin: 291.15\n"
     ]
    }
   ],
   "source": [
    "def convert_celsius(temperature_celsius, target_scale):\n",
    "    return temperature\n",
    "    \n",
    "try:\n",
    "    temperature_celsius = float(input(\"Temperature in celsius:\"))\n",
    "    target_scale = input(\"Fahrenheit or Kelvin:\")\n",
    "    if target_scale == 'Kelvin':\n",
    "        print(f\"Temperature in Kelvin: {temperature_celsius + 273.15}\") \n",
    "    else:\n",
    "        print(f\"Temperature in Fahrenheit:{(temperature_celsius * 9/5) + 32}\") \n",
    "\n",
    "except ValueError:\n",
    "        print(\"Error: Please enter in numericals\")\n",
    "    \n",
    "    \n"
   ]
  },
  {
   "cell_type": "markdown",
   "id": "260c937b-b975-45a4-922d-71d47fb7e980",
   "metadata": {},
   "source": [
    "## Exercise 2 (Fahrenheit to Celsius or Kelvin)"
   ]
  },
  {
   "cell_type": "code",
   "execution_count": 11,
   "id": "8c89d792-724d-4d22-bf1f-1cf180d88b32",
   "metadata": {},
   "outputs": [
    {
     "name": "stdin",
     "output_type": "stream",
     "text": [
      "Temperature in fahrenheit: hgk\n"
     ]
    },
    {
     "name": "stdout",
     "output_type": "stream",
     "text": [
      "Error: Please enter in numericals\n"
     ]
    }
   ],
   "source": [
    "def convert_fahrenheit(temperature_fahrenheit, target_scale):\n",
    "    return temperature\n",
    "    \n",
    "try:\n",
    "    temperature_fahrenheit = float(input(\"Temperature in fahrenheit:\"))\n",
    "    target_scale = input(\"Celsius or Kelvin:\")\n",
    "    if target_scale == 'Kelvin':\n",
    "        print(f\"Temperature in Kelvin: {(temperature_fahrenheit + 459.67) * 5/9}\") \n",
    "    else:\n",
    "        print(f\"Temperature in Celsius:{(temperature_fahrenheit - 32) / 9/5}\") \n",
    "\n",
    "except ValueError:\n",
    "        print(\"Error: Please enter in numericals\")"
   ]
  },
  {
   "cell_type": "markdown",
   "id": "0302d0a8-1881-4ce3-893b-aac10ed50aae",
   "metadata": {},
   "source": [
    "# Exercise 3 (General Temperature Conversion)"
   ]
  },
  {
   "cell_type": "code",
   "execution_count": 17,
   "id": "cc2d9f27-53b4-4a9b-8777-b6ab7b8573da",
   "metadata": {},
   "outputs": [
    {
     "name": "stdin",
     "output_type": "stream",
     "text": [
      "Temperature to be converted: 23\n",
      "Temperature to be converted is in (Celsius/Fahrenheit/Kelvin):  Celsius\n",
      "Output temperature in (Celsius/Fahrenheit/Kelvin): Fahrenheit\n"
     ]
    },
    {
     "name": "stdout",
     "output_type": "stream",
     "text": [
      "Temperature in Fahrenheit: 73.4\n"
     ]
    }
   ],
   "source": [
    "def convert_temperature(temperature, source_scale, target_scale):\n",
    "    return temperature\n",
    "\n",
    "try:\n",
    "    temperature = float(input(\"Temperature to be converted:\"))\n",
    "    source_scale = input(\"Temperature to be converted is in (Celsius/Fahrenheit/Kelvin): \")\n",
    "    target_scale = input(\"Output temperature in (Celsius/Fahrenheit/Kelvin):\")\n",
    "    if source_scale == 'Fahrenheit' and target_scale == 'Kelvin':\n",
    "        print(f\"Temperature in Kelvin: {(temperature + 459.67) * 5/9}\") \n",
    "    elif source_scale == 'Fahrenheit' and target_scale == 'Celsius':\n",
    "        print(f\"Temperature in Celsius: {(temperature - 32) / 9/5}\") \n",
    "    elif source_scale == 'Celsius' and target_scale == 'Kelvin':\n",
    "        print(f\"Temperature in Kelvin: {temperature + 273.15}\") \n",
    "    elif source_scale == 'Celsius' and target_scale == 'Fahrenheit':\n",
    "        print(f\"Temperature in Fahrenheit: {(temperature * 9/5) + 32}\")\n",
    "    elif source_scale == 'Kelvin' and target_scale == 'Celsius':\n",
    "        print(f\"Temperature in Celsius: {temperature - 273.15}\")\n",
    "    elif source_scale == 'Kelvin' and target_scale == 'Fahrenheit':\n",
    "        print(f\"Temperature in Fahrenheit: {((temperature - 273) * 9/5) + 32}\")\n",
    "\n",
    "except ValueError:\n",
    "        print(\"Error: Please enter a numerical temperature and/or check your spelling\")"
   ]
  }
 ],
 "metadata": {
  "kernelspec": {
   "display_name": "Python 3 (ipykernel)",
   "language": "python",
   "name": "python3"
  },
  "language_info": {
   "codemirror_mode": {
    "name": "ipython",
    "version": 3
   },
   "file_extension": ".py",
   "mimetype": "text/x-python",
   "name": "python",
   "nbconvert_exporter": "python",
   "pygments_lexer": "ipython3",
   "version": "3.12.3"
  },
  "toc": {
   "base_numbering": 1,
   "nav_menu": {},
   "number_sections": true,
   "sideBar": true,
   "skip_h1_title": false,
   "title_cell": "Table of Contents",
   "title_sidebar": "Contents",
   "toc_cell": false,
   "toc_position": {},
   "toc_section_display": true,
   "toc_window_display": false
  },
  "vscode": {
   "interpreter": {
    "hash": "31f2aee4e71d21fbe5cf8b01ff0e069b9275f58929596ceb00d14d90e3e16cd6"
   }
  }
 },
 "nbformat": 4,
 "nbformat_minor": 5
}
