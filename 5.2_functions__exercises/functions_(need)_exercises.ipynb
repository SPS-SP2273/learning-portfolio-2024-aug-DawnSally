{
 "cells": [
  {
   "attachments": {},
   "cell_type": "markdown",
   "id": "123456",
   "metadata": {},
   "source": [
    "<div style=\"text-align:left;font-size:2em\"><span style=\"font-weight:bolder;font-size:1.25em\">SP2273 | Learning Portfolio</span><br><br><span style=\"font-weight:bold;color:darkred\">Functions (Need) Exercises</span></div>"
   ]
  },
  {
   "cell_type": "markdown",
   "id": "ea3fa90f-48a4-4b6f-9db9-066ce8b94caf",
   "metadata": {},
   "source": [
    "## Exercise 1 (Do you know why?)"
   ]
  },
  {
   "cell_type": "code",
   "execution_count": 1,
   "id": "348c56ff-4547-4310-b2ef-47396a695283",
   "metadata": {},
   "outputs": [],
   "source": [
    "def greeting(name):\n",
    "    if name == 'Batman':\n",
    "        return 'Hello Batman! So, nice to meet you!'\n",
    "    return f'Hello {name}!'"
   ]
  },
  {
   "cell_type": "markdown",
   "id": "d4422932-9e8b-46af-b5c5-a9a94fa9f900",
   "metadata": {},
   "source": [
    "The argument \"else\" to our function greeting() is optional as the argument is given a default value so that it always has something to work with"
   ]
  },
  {
   "cell_type": "markdown",
   "id": "02e1101b-665a-4485-9ae8-7e733be4bf6b",
   "metadata": {},
   "source": [
    "## Exercise 2 (Chubby or not)"
   ]
  },
  {
   "cell_type": "code",
   "execution_count": 8,
   "id": "a46d8bf2-8d45-483b-95f9-670df1656489",
   "metadata": {},
   "outputs": [
    {
     "name": "stdin",
     "output_type": "stream",
     "text": [
      "Weight(in kilograms): 50\n",
      "Height(in meters): 1.62\n"
     ]
    },
    {
     "name": "stdout",
     "output_type": "stream",
     "text": [
      "Underweight\n"
     ]
    }
   ],
   "source": [
    "BMI = weight / (height ** 2)\n",
    "def calculate_bmi(weight, height):\n",
    "    return BMI\n",
    "\n",
    "try:\n",
    "    weight = float(input(\"Weight(in kilograms):\"))\n",
    "    height = float(input(\"Height(in meters):\"))\n",
    "    if BMI < 18.5:\n",
    "        print(\"Underweight\")\n",
    "    elif BMI >= 18.5 and BMI <= 24.9:\n",
    "        print(\"Normal weight\")\n",
    "    elif BMI >= 25 and BMI <= 29.9:\n",
    "        print(\"Overweight\")\n",
    "    elif BMI >= 30:\n",
    "        print(\"Obese\")\n",
    "except ValueError:\n",
    "        print(\"Error: Please enter a valid weight and/or height.\")\n",
    "\n",
    "    "
   ]
  },
  {
   "cell_type": "markdown",
   "id": "20251f2a-9068-4e4d-a9f5-59a9818caed7",
   "metadata": {},
   "source": [
    "## Exercise 3 (factorials)"
   ]
  },
  {
   "cell_type": "code",
   "execution_count": 15,
   "id": "4b3a3c53-3190-460c-a034-1277019bde06",
   "metadata": {},
   "outputs": [],
   "source": [
    "import math"
   ]
  },
  {
   "cell_type": "code",
   "execution_count": 25,
   "id": "19739bdd-4149-4006-a3aa-07ed3190188e",
   "metadata": {},
   "outputs": [
    {
     "name": "stdin",
     "output_type": "stream",
     "text": [
      "Integer: 3\n"
     ]
    },
    {
     "name": "stdout",
     "output_type": "stream",
     "text": [
      "Factorial of integer is 6\n"
     ]
    }
   ],
   "source": [
    "def factorial(n):\n",
    "    return math.factorial(n)\n",
    "\n",
    "try:\n",
    "    n = int(input(\"Integer:\"))\n",
    "    if n <= 0:\n",
    "        print(\"Error: Please enter a positive integral\")  \n",
    "    elif n > 0:\n",
    "        print(f\"Factorial of integer is {math.factorial(n)}\") \n",
    "except ValueError:\n",
    "    print(\"Error: Please enter an integer\")\n",
    "        \n"
   ]
  }
 ],
 "metadata": {
  "kernelspec": {
   "display_name": "Python 3 (ipykernel)",
   "language": "python",
   "name": "python3"
  },
  "language_info": {
   "codemirror_mode": {
    "name": "ipython",
    "version": 3
   },
   "file_extension": ".py",
   "mimetype": "text/x-python",
   "name": "python",
   "nbconvert_exporter": "python",
   "pygments_lexer": "ipython3",
   "version": "3.12.3"
  },
  "toc": {
   "base_numbering": 1,
   "nav_menu": {},
   "number_sections": true,
   "sideBar": true,
   "skip_h1_title": false,
   "title_cell": "Table of Contents",
   "title_sidebar": "Contents",
   "toc_cell": false,
   "toc_position": {},
   "toc_section_display": true,
   "toc_window_display": false
  },
  "vscode": {
   "interpreter": {
    "hash": "31f2aee4e71d21fbe5cf8b01ff0e069b9275f58929596ceb00d14d90e3e16cd6"
   }
  }
 },
 "nbformat": 4,
 "nbformat_minor": 5
}
