{
 "cells": [
  {
   "attachments": {},
   "cell_type": "markdown",
   "id": "123456",
   "metadata": {},
   "source": [
    "<div style=\"text-align:left;font-size:2em\"><span style=\"font-weight:bolder;font-size:1.25em\">SP2273 | Learning Portfolio</span><br><br><span style=\"font-weight:bold;color:darkred\">Functions (Need) Exercises</span></div>"
   ]
  },
  {
   "cell_type": "markdown",
   "id": "ea3fa90f-48a4-4b6f-9db9-066ce8b94caf",
   "metadata": {},
   "source": [
    "## Exercise 1 (Do you know why?)"
   ]
  },
  {
   "cell_type": "code",
   "execution_count": 1,
   "id": "348c56ff-4547-4310-b2ef-47396a695283",
   "metadata": {},
   "outputs": [],
   "source": [
    "def greeting(name):\n",
    "    if name == 'Batman':\n",
    "        return 'Hello Batman! So, nice to meet you!'\n",
    "    return f'Hello {name}!'"
   ]
  },
  {
   "cell_type": "code",
   "execution_count": 5,
   "id": "ebe20380-195b-420d-b266-0adea492be9a",
   "metadata": {},
   "outputs": [
    {
     "data": {
      "text/plain": [
       "'Hello dawn!'"
      ]
     },
     "execution_count": 5,
     "metadata": {},
     "output_type": "execute_result"
    }
   ],
   "source": [
    "greeting('dawn')"
   ]
  },
  {
   "cell_type": "markdown",
   "id": "144a3898-f6e9-4e75-b051-4283026cf00b",
   "metadata": {},
   "source": [
    "If the condition is met, the code will run up to return and stop there. If the condition isnt met, the code will read to the next line "
   ]
  },
  {
   "cell_type": "markdown",
   "id": "02e1101b-665a-4485-9ae8-7e733be4bf6b",
   "metadata": {},
   "source": [
    "## Exercise 2 (Chubby or not)"
   ]
  },
  {
   "cell_type": "code",
   "execution_count": 37,
   "id": "a46d8bf2-8d45-483b-95f9-670df1656489",
   "metadata": {},
   "outputs": [],
   "source": [
    "import math\n",
    "def calculate_bmi(weight, height):\n",
    "    bmi = weight/(height**2)\n",
    "    if bmi < 18.5:\n",
    "        return(\"Underweight\")\n",
    "    if bmi >= 18.5 and bmi <= 24.9:\n",
    "        return(\"Normal weight\")\n",
    "    if bmi >= 25 and bmi <= 29.9:\n",
    "        return(\"Overweight\")\n",
    "    if bmi >= 30:\n",
    "        return(\"Obese\")\n"
   ]
  },
  {
   "cell_type": "code",
   "execution_count": 38,
   "id": "fd5d8343-319c-42d6-ab59-393ab4e33621",
   "metadata": {},
   "outputs": [
    {
     "data": {
      "text/plain": [
       "'Normal weight'"
      ]
     },
     "execution_count": 38,
     "metadata": {},
     "output_type": "execute_result"
    }
   ],
   "source": [
    "calculate_bmi(49,1.59)"
   ]
  },
  {
   "cell_type": "markdown",
   "id": "20251f2a-9068-4e4d-a9f5-59a9818caed7",
   "metadata": {},
   "source": [
    "## Exercise 3 (factorials)"
   ]
  },
  {
   "cell_type": "code",
   "execution_count": 6,
   "id": "4b3a3c53-3190-460c-a034-1277019bde06",
   "metadata": {},
   "outputs": [],
   "source": [
    "import math"
   ]
  },
  {
   "cell_type": "code",
   "execution_count": 51,
   "id": "19739bdd-4149-4006-a3aa-07ed3190188e",
   "metadata": {},
   "outputs": [],
   "source": [
    "def factorial(n):\n",
    "    if type(n)==int and n>0 :\n",
    "        number = 1\n",
    "        for i in range(1, n+1):\n",
    "            number = number * i\n",
    "        return (f\"{n}!= {number}\")\n",
    "    else:\n",
    "        return(\"Error: Please enter a positive integral\")\n",
    "\n"
   ]
  },
  {
   "cell_type": "code",
   "execution_count": 52,
   "id": "d9359332-0cf1-4252-b3cb-d5c778a223ad",
   "metadata": {},
   "outputs": [
    {
     "data": {
      "text/plain": [
       "'5!= 120'"
      ]
     },
     "execution_count": 52,
     "metadata": {},
     "output_type": "execute_result"
    }
   ],
   "source": [
    "factorial(5)"
   ]
  }
 ],
 "metadata": {
  "kernelspec": {
   "display_name": "Python 3 (ipykernel)",
   "language": "python",
   "name": "python3"
  },
  "language_info": {
   "codemirror_mode": {
    "name": "ipython",
    "version": 3
   },
   "file_extension": ".py",
   "mimetype": "text/x-python",
   "name": "python",
   "nbconvert_exporter": "python",
   "pygments_lexer": "ipython3",
   "version": "3.12.3"
  },
  "toc": {
   "base_numbering": 1,
   "nav_menu": {},
   "number_sections": true,
   "sideBar": true,
   "skip_h1_title": false,
   "title_cell": "Table of Contents",
   "title_sidebar": "Contents",
   "toc_cell": false,
   "toc_position": {},
   "toc_section_display": true,
   "toc_window_display": false
  },
  "vscode": {
   "interpreter": {
    "hash": "31f2aee4e71d21fbe5cf8b01ff0e069b9275f58929596ceb00d14d90e3e16cd6"
   }
  }
 },
 "nbformat": 4,
 "nbformat_minor": 5
}
