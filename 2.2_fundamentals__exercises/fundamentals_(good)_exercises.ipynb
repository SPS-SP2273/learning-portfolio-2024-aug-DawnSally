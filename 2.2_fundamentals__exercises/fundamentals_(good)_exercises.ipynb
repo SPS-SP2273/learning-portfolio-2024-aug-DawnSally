{
 "cells": [
  {
   "attachments": {},
   "cell_type": "markdown",
   "id": "123456",
   "metadata": {},
   "source": [
    "<div style=\"text-align:left;font-size:2em\"><span style=\"font-weight:bolder;font-size:1.25em\">SP2273 | Learning Portfolio</span><br><br><span style=\"font-weight:bold;color:darkred\">Fundamentals (Good) Exercises</span></div>"
   ]
  },
  {
   "cell_type": "markdown",
   "id": "1f880981-48f8-4119-a308-11369ce8a520",
   "metadata": {},
   "source": [
    "# Exercise 1"
   ]
  },
  {
   "cell_type": "markdown",
   "id": "84121dc3-3e43-422b-b144-543e85a1c286",
   "metadata": {},
   "source": [
    "## Task 1 "
   ]
  },
  {
   "cell_type": "code",
   "execution_count": 1,
   "id": "32a1f300-ef3a-4a9d-b697-8a2063a6bc2b",
   "metadata": {},
   "outputs": [
    {
     "name": "stdin",
     "output_type": "stream",
     "text": [
      "What's your name?  adrina\n"
     ]
    }
   ],
   "source": [
    "name = input(\"What's your name? \")"
   ]
  },
  {
   "cell_type": "code",
   "execution_count": 2,
   "id": "39c592d1-ad22-440e-8603-4bfaae47e4a3",
   "metadata": {},
   "outputs": [
    {
     "name": "stdout",
     "output_type": "stream",
     "text": [
      "How you doin adrina!\n"
     ]
    }
   ],
   "source": [
    "print(f\"How you doin {name}!\")\n"
   ]
  },
  {
   "cell_type": "markdown",
   "id": "f1bde5a0-ed2f-4904-8728-6b60eda9f64b",
   "metadata": {},
   "source": [
    "## Task 2"
   ]
  },
  {
   "cell_type": "code",
   "execution_count": 3,
   "id": "39737354-51f0-46c9-94ae-36a407197602",
   "metadata": {},
   "outputs": [
    {
     "name": "stdin",
     "output_type": "stream",
     "text": [
      "What's your name?  adrina\n"
     ]
    }
   ],
   "source": [
    "name = input(\"What's your name? \")"
   ]
  },
  {
   "cell_type": "code",
   "execution_count": 4,
   "id": "1e72cc69-6fb6-4311-be13-36fc608a7524",
   "metadata": {},
   "outputs": [
    {
     "name": "stdin",
     "output_type": "stream",
     "text": [
      "How old are you?  19\n"
     ]
    }
   ],
   "source": [
    "age = input(\"How old are you? \")"
   ]
  },
  {
   "cell_type": "code",
   "execution_count": 5,
   "id": "49008c6d-6988-4743-82a7-28461cc4de2c",
   "metadata": {},
   "outputs": [
    {
     "name": "stdout",
     "output_type": "stream",
     "text": [
      "My name is adrina and I am 19 years old.\n"
     ]
    }
   ],
   "source": [
    "print(f\"My name is {name} and I am {age} years old.\")"
   ]
  },
  {
   "cell_type": "markdown",
   "id": "0fea7bbc-2a34-4298-a9c6-f9ecfd9b0c4f",
   "metadata": {},
   "source": [
    "## Task 3"
   ]
  },
  {
   "cell_type": "code",
   "execution_count": 9,
   "id": "96217c09-f52a-47ea-8b1f-551ecb7601b5",
   "metadata": {},
   "outputs": [],
   "source": [
    "pi = 3.141592653589793"
   ]
  },
  {
   "cell_type": "code",
   "execution_count": 11,
   "id": "a7196111-f8a7-4fae-997e-148147e3a10a",
   "metadata": {},
   "outputs": [
    {
     "name": "stdout",
     "output_type": "stream",
     "text": [
      "The value of pi to 2 decimal places is: 3.14\n"
     ]
    }
   ],
   "source": [
    "\n",
    "print(f\"The value of pi to 2 decimal places is: {pi:.2f}\")"
   ]
  },
  {
   "cell_type": "code",
   "execution_count": 12,
   "id": "77a671f2-bf95-4363-879f-1f0735d7879a",
   "metadata": {},
   "outputs": [
    {
     "name": "stdout",
     "output_type": "stream",
     "text": [
      "The value of pi to 3 decimal places is: 3.142\n"
     ]
    }
   ],
   "source": [
    "print(f\"The value of pi to 3 decimal places is: {pi:.3f}\")"
   ]
  },
  {
   "cell_type": "code",
   "execution_count": 13,
   "id": "ff16aeeb-b07d-4395-bda1-ba7ec3952976",
   "metadata": {},
   "outputs": [
    {
     "name": "stdout",
     "output_type": "stream",
     "text": [
      "The value of pi to 4 decimal places is: 3.1416\n"
     ]
    }
   ],
   "source": [
    "print(f\"The value of pi to 4 decimal places is: {pi:.4f}\")"
   ]
  },
  {
   "cell_type": "markdown",
   "id": "043a0a76-ee67-4c18-a6db-af23c7ae2cb3",
   "metadata": {},
   "source": [
    "## Task 4"
   ]
  },
  {
   "cell_type": "code",
   "execution_count": 22,
   "id": "ad3bf2d2-edb3-44ef-ad51-9c39616713a5",
   "metadata": {},
   "outputs": [],
   "source": [
    "fruits = {\n",
    "    'Apple': 0.99,\n",
    "    'Banana': 0.59,\n",
    "    'Orange': 1.29\n",
    "}\n",
    "name_width = 10\n",
    "price_width = 5\n"
   ]
  },
  {
   "cell_type": "code",
   "execution_count": 27,
   "id": "f2621418-e9c5-4731-b656-a5efc6bbf320",
   "metadata": {},
   "outputs": [
    {
     "name": "stdout",
     "output_type": "stream",
     "text": [
      "Apple      $  0.99\n",
      "Banana     $  0.59\n",
      "Orange     $  1.29\n",
      "********** $ *****\n"
     ]
    }
   ],
   "source": [
    "for i, (fruit, price) in enumerate(fruits.items()):\n",
    "    print(f\"{fruit:<{name_width}} $ {price:>{price_width}.2f}\")\n",
    "print(f\"{'*' * name_width} $ {'*' * price_width}\")\n"
   ]
  },
  {
   "cell_type": "markdown",
   "id": "19a468ef-86c2-4d16-9d68-f81ad7a14e1e",
   "metadata": {},
   "source": [
    "# Exercise 2"
   ]
  },
  {
   "cell_type": "code",
   "execution_count": 3,
   "id": "24be34f2-408b-4fc7-87c2-9b94eda7755c",
   "metadata": {},
   "outputs": [
    {
     "name": "stdin",
     "output_type": "stream",
     "text": [
      "Enter the student's score:  20\n"
     ]
    },
    {
     "name": "stdout",
     "output_type": "stream",
     "text": [
      "The student's letter grade is: Fail\n"
     ]
    }
   ],
   "source": [
    "def get_grade(score):\n",
    "    if score >= 70 and score <= 100:\n",
    "        return \"A\"\n",
    "    elif score >= 50 and score <= 69:\n",
    "        return \"B\"\n",
    "    elif score >= 35 and score <= 49:\n",
    "        return \"C\"\n",
    "    elif score >= 0 and score <= 34:\n",
    "        return \"Fail\"\n",
    "    else:\n",
    "        return None\n",
    "\n",
    "def main():\n",
    "    try:\n",
    "        score = int(input(\"Enter the student's score: \"))\n",
    "        \n",
    "        if 0 <= score <= 100:\n",
    "            grade = get_grade(score)\n",
    "            print(f\"The student's letter grade is: {grade}\")\n",
    "        else:\n",
    "            print(\"Error: The score must be between 0 and 100.\")\n",
    "    \n",
    "    except ValueError:\n",
    "        print(\"Error: Please enter a valid numerical score.\")\n",
    "if __name__ == \"__main__\":\n",
    "    main()\n"
   ]
  },
  {
   "cell_type": "markdown",
   "id": "7ad77bb3-a5fa-48a8-813c-52083e3c4beb",
   "metadata": {},
   "source": [
    "# Exercise 3 "
   ]
  },
  {
   "cell_type": "code",
   "execution_count": 6,
   "id": "405bdcb6-19c4-4039-88cb-751cf4b00866",
   "metadata": {},
   "outputs": [
    {
     "name": "stdout",
     "output_type": "stream",
     "text": [
      "120\n",
      "Invalid input\n"
     ]
    }
   ],
   "source": [
    "def factorial(n):\n",
    "    if n < 0:  # Error 1: The condition should check if n is less than 0 for invalid input.\n",
    "        return \"Invalid input\"\n",
    "    elif n == 0:  # Error 2: The condition should check if n is 0. The factorial of 0 is 1.\n",
    "        return 1\n",
    "    else:\n",
    "        result = 1\n",
    "        for number in range(1, n + 1):  # Error 3: The loop should multiply the result, not add.\n",
    "            result *= number\n",
    "        return result\n",
    "\n",
    "print(factorial(5))  # Testing, expected output: 120\n",
    "print(factorial(-1))  # Testing, expected output: Invalid input\n"
   ]
  }
 ],
 "metadata": {
  "kernelspec": {
   "display_name": "Python 3 (ipykernel)",
   "language": "python",
   "name": "python3"
  },
  "language_info": {
   "codemirror_mode": {
    "name": "ipython",
    "version": 3
   },
   "file_extension": ".py",
   "mimetype": "text/x-python",
   "name": "python",
   "nbconvert_exporter": "python",
   "pygments_lexer": "ipython3",
   "version": "3.12.3"
  },
  "toc": {
   "base_numbering": 1,
   "nav_menu": {},
   "number_sections": true,
   "sideBar": true,
   "skip_h1_title": false,
   "title_cell": "Table of Contents",
   "title_sidebar": "Contents",
   "toc_cell": false,
   "toc_position": {},
   "toc_section_display": true,
   "toc_window_display": false
  },
  "vscode": {
   "interpreter": {
    "hash": "31f2aee4e71d21fbe5cf8b01ff0e069b9275f58929596ceb00d14d90e3e16cd6"
   }
  }
 },
 "nbformat": 4,
 "nbformat_minor": 5
}
