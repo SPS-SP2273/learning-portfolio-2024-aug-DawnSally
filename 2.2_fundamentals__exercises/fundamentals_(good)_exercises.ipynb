{
 "cells": [
  {
   "attachments": {},
   "cell_type": "markdown",
   "id": "123456",
   "metadata": {},
   "source": [
    "<div style=\"text-align:left;font-size:2em\"><span style=\"font-weight:bolder;font-size:1.25em\">SP2273 | Learning Portfolio</span><br><br><span style=\"font-weight:bold;color:darkred\">Fundamentals (Good) Exercises</span></div>"
   ]
  },
  {
   "cell_type": "markdown",
   "id": "1f880981-48f8-4119-a308-11369ce8a520",
   "metadata": {},
   "source": [
    "# Exercise 1"
   ]
  },
  {
   "cell_type": "markdown",
   "id": "84121dc3-3e43-422b-b144-543e85a1c286",
   "metadata": {},
   "source": [
    "## Task 1 "
   ]
  },
  {
   "cell_type": "code",
   "execution_count": 1,
   "id": "32a1f300-ef3a-4a9d-b697-8a2063a6bc2b",
   "metadata": {},
   "outputs": [
    {
     "name": "stdin",
     "output_type": "stream",
     "text": [
      "What's your name?  adrina\n"
     ]
    }
   ],
   "source": [
    "name = input(\"What's your name? \")"
   ]
  },
  {
   "cell_type": "code",
   "execution_count": 46,
   "id": "39c592d1-ad22-440e-8603-4bfaae47e4a3",
   "metadata": {},
   "outputs": [
    {
     "name": "stdout",
     "output_type": "stream",
     "text": [
      "How you doin \u001b[1mDAWN!\n"
     ]
    }
   ],
   "source": [
    "name = \"Dawn\"\n",
    "print(f\"How you doin \\033[1m{ name.upper()}!\")\n"
   ]
  },
  {
   "cell_type": "markdown",
   "id": "f1bde5a0-ed2f-4904-8728-6b60eda9f64b",
   "metadata": {},
   "source": [
    "## Task 2"
   ]
  },
  {
   "cell_type": "code",
   "execution_count": 3,
   "id": "39737354-51f0-46c9-94ae-36a407197602",
   "metadata": {},
   "outputs": [
    {
     "name": "stdin",
     "output_type": "stream",
     "text": [
      "What's your name?  adrina\n"
     ]
    }
   ],
   "source": [
    "name = input(\"What's your name? \")"
   ]
  },
  {
   "cell_type": "code",
   "execution_count": 4,
   "id": "1e72cc69-6fb6-4311-be13-36fc608a7524",
   "metadata": {},
   "outputs": [
    {
     "name": "stdin",
     "output_type": "stream",
     "text": [
      "How old are you?  19\n"
     ]
    }
   ],
   "source": [
    "age = input(\"How old are you? \")"
   ]
  },
  {
   "cell_type": "code",
   "execution_count": 5,
   "id": "49008c6d-6988-4743-82a7-28461cc4de2c",
   "metadata": {},
   "outputs": [
    {
     "name": "stdout",
     "output_type": "stream",
     "text": [
      "My name is adrina and I am 19 years old.\n"
     ]
    }
   ],
   "source": [
    "print(f\"My name is {name} and I am {age} years old.\")"
   ]
  },
  {
   "cell_type": "markdown",
   "id": "0fea7bbc-2a34-4298-a9c6-f9ecfd9b0c4f",
   "metadata": {},
   "source": [
    "## Task 3"
   ]
  },
  {
   "cell_type": "code",
   "execution_count": 9,
   "id": "96217c09-f52a-47ea-8b1f-551ecb7601b5",
   "metadata": {},
   "outputs": [],
   "source": [
    "pi = 3.141592653589793"
   ]
  },
  {
   "cell_type": "code",
   "execution_count": 11,
   "id": "a7196111-f8a7-4fae-997e-148147e3a10a",
   "metadata": {},
   "outputs": [
    {
     "name": "stdout",
     "output_type": "stream",
     "text": [
      "The value of pi to 2 decimal places is: 3.14\n"
     ]
    }
   ],
   "source": [
    "\n",
    "print(f\"The value of pi to 2 decimal places is: {pi:.2f}\")"
   ]
  },
  {
   "cell_type": "code",
   "execution_count": 12,
   "id": "77a671f2-bf95-4363-879f-1f0735d7879a",
   "metadata": {},
   "outputs": [
    {
     "name": "stdout",
     "output_type": "stream",
     "text": [
      "The value of pi to 3 decimal places is: 3.142\n"
     ]
    }
   ],
   "source": [
    "print(f\"The value of pi to 3 decimal places is: {pi:.3f}\")"
   ]
  },
  {
   "cell_type": "code",
   "execution_count": 13,
   "id": "ff16aeeb-b07d-4395-bda1-ba7ec3952976",
   "metadata": {},
   "outputs": [
    {
     "name": "stdout",
     "output_type": "stream",
     "text": [
      "The value of pi to 4 decimal places is: 3.1416\n"
     ]
    }
   ],
   "source": [
    "print(f\"The value of pi to 4 decimal places is: {pi:.4f}\")"
   ]
  },
  {
   "cell_type": "markdown",
   "id": "043a0a76-ee67-4c18-a6db-af23c7ae2cb3",
   "metadata": {},
   "source": [
    "## Task 4"
   ]
  },
  {
   "cell_type": "code",
   "execution_count": 29,
   "id": "ad3bf2d2-edb3-44ef-ad51-9c39616713a5",
   "metadata": {},
   "outputs": [],
   "source": [
    "fruits = {\n",
    "    'Apple': 0.99,\n",
    "    'Banana': 0.59,\n",
    "    'Orange': 1.29\n",
    "}\n",
    "name_width = 20\n",
    "\n",
    "price_width = 5\n"
   ]
  },
  {
   "cell_type": "code",
   "execution_count": 5,
   "id": "f2621418-e9c5-4731-b656-a5efc6bbf320",
   "metadata": {},
   "outputs": [
    {
     "name": "stdout",
     "output_type": "stream",
     "text": [
      "Apple      $  0.99\n",
      "Banana     $  0.59\n",
      "Orange     $  1.29\n",
      "********** $ *****\n"
     ]
    }
   ],
   "source": [
    "for i, (fruit, price) in enumerate(fruits.items()):\n",
    "    print(f\"{fruit:<{name_width}} $ {price:>{price_width}.2f}\")\n",
    "print(f\"{'*' * name_width} $ {'*' * price_width}\")\n"
   ]
  },
  {
   "cell_type": "code",
   "execution_count": 6,
   "id": "daeeca47-dc4d-4fbf-a369-617da39d8c26",
   "metadata": {},
   "outputs": [
    {
     "name": "stdout",
     "output_type": "stream",
     "text": [
      "{'Apple': 0.99, 'Banana': 0.59, 'Orange': 1.29}\n"
     ]
    }
   ],
   "source": [
    "print(fruits)"
   ]
  },
  {
   "cell_type": "code",
   "execution_count": 7,
   "id": "8d7ddac3-b4ed-48f9-8011-a996cdcd1e22",
   "metadata": {},
   "outputs": [
    {
     "data": {
      "text/plain": [
       "0.99"
      ]
     },
     "execution_count": 7,
     "metadata": {},
     "output_type": "execute_result"
    }
   ],
   "source": [
    "fruits[\"Apple\"]"
   ]
  },
  {
   "cell_type": "code",
   "execution_count": 8,
   "id": "15179487-6f6a-4d0d-96e2-6586be0f1ad6",
   "metadata": {},
   "outputs": [
    {
     "name": "stdout",
     "output_type": "stream",
     "text": [
      "Apple      $  0.99\n"
     ]
    }
   ],
   "source": [
    "print(f\"{\"Apple\":<{10}} $ {fruits[\"Apple\"]:>{price_width}.2f}\")"
   ]
  },
  {
   "cell_type": "code",
   "execution_count": 35,
   "id": "63e2fbd5-790b-4be7-90ca-c4aac64ab379",
   "metadata": {},
   "outputs": [
    {
     "name": "stdout",
     "output_type": "stream",
     "text": [
      "Apple                $  0.99\n",
      "Banana               $  0.59\n",
      "Orange               $  1.29\n",
      "******************** $ *****\n"
     ]
    }
   ],
   "source": [
    "print(f\"{\"Apple\":<{name_width}} $ {fruits[\"Apple\"]:>{price_width}.2f}\")\n",
    "print(f\"{\"Banana\":<{name_width}} $ {fruits[\"Banana\"]:>{price_width}.2f}\")\n",
    "print(f\"{\"Orange\":<{name_width}} $ {fruits[\"Orange\"]:>{price_width}.2f}\")\n",
    "print(f'{\"*\"*name_width} $ {\"*\"*price_width}')\n"
   ]
  },
  {
   "cell_type": "code",
   "execution_count": 17,
   "id": "49ea22f3-19bc-435e-a6e2-7dac652dafb1",
   "metadata": {},
   "outputs": [
    {
     "name": "stdout",
     "output_type": "stream",
     "text": [
      "120\n"
     ]
    }
   ],
   "source": [
    "total = 1\n",
    "for x in range(1, 5+1):\n",
    "    total *= x\n",
    "print(total)"
   ]
  },
  {
   "cell_type": "markdown",
   "id": "19a468ef-86c2-4d16-9d68-f81ad7a14e1e",
   "metadata": {},
   "source": [
    "# Exercise 2"
   ]
  },
  {
   "cell_type": "code",
   "execution_count": 76,
   "id": "724355ff-a502-47e1-8510-74aaf7c6aaf1",
   "metadata": {},
   "outputs": [
    {
     "name": "stdin",
     "output_type": "stream",
     "text": [
      "Enter the student's score: 60\n"
     ]
    },
    {
     "name": "stdout",
     "output_type": "stream",
     "text": [
      "The student's letter grade is: B\n"
     ]
    }
   ],
   "source": [
    "try:\n",
    "    score = int(input(\"Enter the student's score:\"))\n",
    "    if score >= 70 and score <= 100:\n",
    "        print(\"The student's letter grade is: A\") \n",
    "    elif score >= 50 and score <= 60:\n",
    "        print(\"The student's letter grade is: B\") \n",
    "    elif score >= 35 and score <= 49:\n",
    "        print(\"The student's letter grade is: C\")\n",
    "    elif score >= 0 and score <= 34:\n",
    "        print(\"The student's letter grade is: Fail\") \n",
    "    else:\n",
    "        print(\"Invalid score\") \n",
    "except ValueError:\n",
    "        print(\"Error: Please enter a valid numerical score.\")\n",
    "\n",
    "    "
   ]
  },
  {
   "cell_type": "markdown",
   "id": "7ad77bb3-a5fa-48a8-813c-52083e3c4beb",
   "metadata": {},
   "source": [
    "# Exercise 3 "
   ]
  },
  {
   "cell_type": "code",
   "execution_count": 79,
   "id": "6d4e2e01-4457-4c25-b29c-f5175b4d4436",
   "metadata": {},
   "outputs": [
    {
     "name": "stdout",
     "output_type": "stream",
     "text": [
      "120\n",
      "Invalid input\n"
     ]
    }
   ],
   "source": [
    "def factorial(n):\n",
    "    if n < 0:\n",
    "        return \"Invalid input\"\n",
    "    elif n == 0:\n",
    "        return 1\n",
    "    else:\n",
    "        result = 1\n",
    "        for number in range(1, n+1):\n",
    "            result *= number\n",
    "        return result\n",
    "\n",
    "\n",
    "print(factorial(5))   # Testing, expected output: 120\n",
    "print(factorial(-1))  # Testing, expected output: Invalid input"
   ]
  }
 ],
 "metadata": {
  "kernelspec": {
   "display_name": "Python 3 (ipykernel)",
   "language": "python",
   "name": "python3"
  },
  "language_info": {
   "codemirror_mode": {
    "name": "ipython",
    "version": 3
   },
   "file_extension": ".py",
   "mimetype": "text/x-python",
   "name": "python",
   "nbconvert_exporter": "python",
   "pygments_lexer": "ipython3",
   "version": "3.12.3"
  },
  "toc": {
   "base_numbering": 1,
   "nav_menu": {},
   "number_sections": true,
   "sideBar": true,
   "skip_h1_title": false,
   "title_cell": "Table of Contents",
   "title_sidebar": "Contents",
   "toc_cell": false,
   "toc_position": {},
   "toc_section_display": true,
   "toc_window_display": false
  },
  "vscode": {
   "interpreter": {
    "hash": "31f2aee4e71d21fbe5cf8b01ff0e069b9275f58929596ceb00d14d90e3e16cd6"
   }
  }
 },
 "nbformat": 4,
 "nbformat_minor": 5
}
