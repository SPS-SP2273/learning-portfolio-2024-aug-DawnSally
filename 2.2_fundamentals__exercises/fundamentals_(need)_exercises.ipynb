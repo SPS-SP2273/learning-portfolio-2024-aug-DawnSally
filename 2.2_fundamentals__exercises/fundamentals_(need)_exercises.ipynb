{
 "cells": [
  {
   "attachments": {},
   "cell_type": "markdown",
   "id": "123456",
   "metadata": {},
   "source": [
    "<div style=\"text-align:left;font-size:2em\"><span style=\"font-weight:bolder;font-size:1.25em\">SP2273 | Learning Portfolio</span><br><br><span style=\"font-weight:bold;color:darkred\">Fundamentals (Need) Exercises</span></div>"
   ]
  },
  {
   "cell_type": "markdown",
   "id": "af9e1f94-39f1-4247-87fa-27cd6430fcda",
   "metadata": {},
   "source": [
    "# Exercise 1"
   ]
  },
  {
   "cell_type": "markdown",
   "id": "afa0b9b3-f2e2-432a-bdc9-93aa3c626021",
   "metadata": {},
   "source": [
    "1. Print\n",
    "2. f-string\n",
    "3. Integer\n",
    "4. Decimal places\n",
    "5. Coding for equations using mathematical symbols\n",
    "6. if, else, elif\n",
    "7. _Headings_\n",
    "8. _Images_\n",
    "9. _Links_\n",
    "10. _Lists_\n",
    "11. _Shell magic_\n",
    "12. _The Kernel_\n",
    "13. _Asking questions_\n",
    "14. _Asking math questions_\n",
    "15. _Escape sequence_\n",
    "16. _Storing information_\n",
    "    - _Integer_\n",
    "    - _Float_\n",
    "    - _String_\n",
    "    - _Complex_\n",
    "18. _Indentations_\n",
    "19. _Brackets_\n",
    "20. _Using dot_\n"
   ]
  },
  {
   "cell_type": "markdown",
   "id": "27f4af90-895c-4a00-aa65-d24ee23aff2a",
   "metadata": {},
   "source": [
    "# Exercise 2 (Debug me)"
   ]
  },
  {
   "cell_type": "code",
   "execution_count": 5,
   "id": "606247b9-3f82-464e-8fe6-2b35bf6911bb",
   "metadata": {},
   "outputs": [],
   "source": [
    "import math"
   ]
  },
  {
   "cell_type": "code",
   "execution_count": 20,
   "id": "48df37ea-01ba-43d3-a42d-e719b4d8ef3f",
   "metadata": {},
   "outputs": [],
   "source": [
    "x, y = 3, 4\n",
    "z = int(math.sqrt(x**2 + y**2))"
   ]
  },
  {
   "cell_type": "code",
   "execution_count": 24,
   "id": "c447f6ff-5df2-4d60-93b9-bc70113f8cfc",
   "metadata": {},
   "outputs": [
    {
     "name": "stdout",
     "output_type": "stream",
     "text": [
      "3 4 5\n"
     ]
    }
   ],
   "source": [
    "print(x, y, z)"
   ]
  },
  {
   "cell_type": "markdown",
   "id": "e3b531e1-4c9c-41d4-b93b-582abebe7b8a",
   "metadata": {},
   "source": [
    "# Exercise 3(In your own words)"
   ]
  },
  {
   "cell_type": "markdown",
   "id": "a4d1bf8d-4ce2-4d9d-bd26-18f596de59ae",
   "metadata": {},
   "source": [
    "| **#** | **Term** | **Description** |\n",
    "| :--: | :----- | :--------------------------- |\n",
    "| 1 | Function| A function is a block of codes defined by a name that can take arguments and return with a value |\n",
    "| 2 | Arguments | An argument is a variable, value or object passed to a function as input |\n",
    "| 3 | Comments | Comment are pieces of text placed in the code, containing information about what the code does |\n",
    "| 4 | Indentations | Indentations are spaces that are used to separate the True and False blocks |\n",
    "| 5 | Packages | Packages offer functionality that are not originally inside the programming software and each package has its own capability and efficiency|\n",
    "| 6 | . | The dot is used to indicate that an attribute belongs to a particular function |\n",
    "| 7 | : | Used to fetch data and index ranges or arrays |\n",
    "| 8 | [] | To list data |\n",
    "| 9 | [[],[]] | A 2D array whereby each element of the array is a ID array |\n",
    "| 10 | {} | To store data in a dictionary |\n",
    "\n",
    "\n"
   ]
  },
  {
   "cell_type": "markdown",
   "id": "dba57e45-92e8-435c-838a-fd284dd4cb07",
   "metadata": {},
   "source": [
    "# Exercise 4(More than one way to divide)"
   ]
  },
  {
   "cell_type": "code",
   "execution_count": 34,
   "id": "f19d2c59-1608-4978-b8e3-b898bd7db9ff",
   "metadata": {},
   "outputs": [
    {
     "data": {
      "text/plain": [
       "2.5"
      ]
     },
     "execution_count": 34,
     "metadata": {},
     "output_type": "execute_result"
    }
   ],
   "source": [
    "5/2         # / is a floating point division that gives the answer in decimal place(s)"
   ]
  },
  {
   "cell_type": "code",
   "execution_count": 30,
   "id": "612dbe61-5b6b-45c2-b02a-aa3d1e7d6f1f",
   "metadata": {},
   "outputs": [
    {
     "data": {
      "text/plain": [
       "1"
      ]
     },
     "execution_count": 30,
     "metadata": {},
     "output_type": "execute_result"
    }
   ],
   "source": [
    "5//2          # // is an integer division that rounds down the answer to the nearest integer "
   ]
  },
  {
   "cell_type": "code",
   "execution_count": 29,
   "id": "380bcca7-bc10-48b4-ad47-fffb96a0a61f",
   "metadata": {},
   "outputs": [
    {
     "data": {
      "text/plain": [
       "1"
      ]
     },
     "execution_count": 29,
     "metadata": {},
     "output_type": "execute_result"
    }
   ],
   "source": [
    "5%2           # Used to calculate the remainder of a division operator"
   ]
  }
 ],
 "metadata": {
  "kernelspec": {
   "display_name": "Python 3 (ipykernel)",
   "language": "python",
   "name": "python3"
  },
  "language_info": {
   "codemirror_mode": {
    "name": "ipython",
    "version": 3
   },
   "file_extension": ".py",
   "mimetype": "text/x-python",
   "name": "python",
   "nbconvert_exporter": "python",
   "pygments_lexer": "ipython3",
   "version": "3.12.3"
  },
  "toc": {
   "base_numbering": 1,
   "nav_menu": {},
   "number_sections": true,
   "sideBar": true,
   "skip_h1_title": false,
   "title_cell": "Table of Contents",
   "title_sidebar": "Contents",
   "toc_cell": false,
   "toc_position": {},
   "toc_section_display": true,
   "toc_window_display": false
  },
  "vscode": {
   "interpreter": {
    "hash": "31f2aee4e71d21fbe5cf8b01ff0e069b9275f58929596ceb00d14d90e3e16cd6"
   }
  }
 },
 "nbformat": 4,
 "nbformat_minor": 5
}
