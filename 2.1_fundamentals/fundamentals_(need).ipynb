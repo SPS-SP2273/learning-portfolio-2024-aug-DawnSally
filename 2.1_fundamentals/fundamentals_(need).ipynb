{
 "cells": [
  {
   "attachments": {},
   "cell_type": "markdown",
   "id": "123456",
   "metadata": {},
   "source": [
    "<div style=\"text-align:left;font-size:2em\"><span style=\"font-weight:bolder;font-size:1.25em\">SP2273 | Learning Portfolio</span><br><br><span style=\"font-weight:bold;color:darkred\">Fundamentals (Need)</span></div>"
   ]
  },
  {
   "attachments": {},
   "cell_type": "markdown",
   "id": "324ce823",
   "metadata": {},
   "source": [
    "# 1 Functions"
   ]
  },
  {
   "cell_type": "code",
   "execution_count": 18,
   "id": "12a2cd1f-0762-4209-b9b2-34c17ba9390b",
   "metadata": {},
   "outputs": [
    {
     "name": "stdout",
     "output_type": "stream",
     "text": [
      "Hello World!\n"
     ]
    }
   ],
   "source": [
    "print(\"Hello World!\")"
   ]
  },
  {
   "attachments": {},
   "cell_type": "markdown",
   "id": "4ec9195b",
   "metadata": {},
   "source": [
    "# 2 Python is interpreted"
   ]
  },
  {
   "cell_type": "code",
   "execution_count": 3,
   "id": "a59dc2c9-ddaf-4745-a1b2-7740d1e1af51",
   "metadata": {},
   "outputs": [
    {
     "name": "stdout",
     "output_type": "stream",
     "text": [
      "Hello World\n",
      "Hello World again\n"
     ]
    }
   ],
   "source": [
    "print('Hello  World')\n",
    "print('Hello World again')"
   ]
  },
  {
   "attachments": {},
   "cell_type": "markdown",
   "id": "0b8cf118",
   "metadata": {},
   "source": [
    "# 3 Python is sensitive."
   ]
  },
  {
   "attachments": {},
   "cell_type": "markdown",
   "id": "41eca05f",
   "metadata": {},
   "source": [
    "## Comments"
   ]
  },
  {
   "cell_type": "markdown",
   "id": "f0940915-a863-42fa-95b4-d267d212d973",
   "metadata": {},
   "source": [
    "# 20032 is a conversion factor\n",
    "for age_in_thousands_of_years in range(10):\n",
    "    print(age_in_thousands_of_years/20032)\n",
    "\n",
    "    "
   ]
  },
  {
   "attachments": {},
   "cell_type": "markdown",
   "id": "dd9cde7d",
   "metadata": {},
   "source": [
    "# 5 = is not the same as =="
   ]
  },
  {
   "cell_type": "code",
   "execution_count": 1,
   "id": "edd3f0c0-125f-43b4-8ed6-8d203fd0e594",
   "metadata": {},
   "outputs": [],
   "source": [
    "name = 'batman'"
   ]
  },
  {
   "cell_type": "code",
   "execution_count": 2,
   "id": "7b997a1b-5826-43c9-96b9-425e3f263f12",
   "metadata": {},
   "outputs": [
    {
     "data": {
      "text/plain": [
       "False"
      ]
     },
     "execution_count": 2,
     "metadata": {},
     "output_type": "execute_result"
    }
   ],
   "source": [
    "name=='robin'"
   ]
  },
  {
   "attachments": {},
   "cell_type": "markdown",
   "id": "4ccdbb55",
   "metadata": {},
   "source": [
    "# 6 Use if to make decisions"
   ]
  },
  {
   "cell_type": "code",
   "execution_count": 6,
   "id": "8f46e35f-1492-4a0e-b44a-3b138168faa0",
   "metadata": {},
   "outputs": [
    {
     "name": "stdout",
     "output_type": "stream",
     "text": [
      "Hello Batman\n",
      "You are cool\n",
      "thank goodness\n"
     ]
    }
   ],
   "source": [
    "name = 'batman'\n",
    "\n",
    "if name == 'batman':\n",
    "    print('Hello Batman')\n",
    "    print('You are cool')\n",
    "    print('thank goodness')\n",
    "else:\n",
    "    print('Hello World\"')"
   ]
  },
  {
   "cell_type": "code",
   "execution_count": 7,
   "id": "7792218b-719b-41c8-afef-c03678449633",
   "metadata": {},
   "outputs": [
    {
     "ename": "SyntaxError",
     "evalue": "invalid syntax (3215142201.py, line 2)",
     "output_type": "error",
     "traceback": [
      "\u001b[1;36m  Cell \u001b[1;32mIn[7], line 2\u001b[1;36m\u001b[0m\n\u001b[1;33m    if (name == 'Batman') {\u001b[0m\n\u001b[1;37m                          ^\u001b[0m\n\u001b[1;31mSyntaxError\u001b[0m\u001b[1;31m:\u001b[0m invalid syntax\n"
     ]
    }
   ],
   "source": [
    "# Written in C\n",
    "if (name == 'Batman') {\n",
    "  print('Hello Hero | Batman!')\n",
    "} else {\n",
    "  print('Hello World!')\n",
    "}"
   ]
  },
  {
   "attachments": {},
   "cell_type": "markdown",
   "id": "01540add",
   "metadata": {},
   "source": [
    "# 7 Indentations (spaces) are sooo IMPORTANT!"
   ]
  },
  {
   "cell_type": "code",
   "execution_count": 5,
   "id": "1363250f-c7c9-49f7-b03c-efb903c29694",
   "metadata": {},
   "outputs": [
    {
     "name": "stdout",
     "output_type": "stream",
     "text": [
      "10\n"
     ]
    }
   ],
   "source": [
    "x = 10\n",
    "print(x)"
   ]
  },
  {
   "attachments": {},
   "cell_type": "markdown",
   "id": "fb3347fe",
   "metadata": {},
   "source": [
    "# 8 ‘age’ is English, age is a variable."
   ]
  },
  {
   "cell_type": "code",
   "execution_count": 11,
   "id": "93bee727-b15f-4ea9-ac28-9dd44e30c4f5",
   "metadata": {},
   "outputs": [],
   "source": [
    "age=10"
   ]
  },
  {
   "cell_type": "code",
   "execution_count": 12,
   "id": "5245bac9-0807-4093-9c6b-f154b253e83e",
   "metadata": {},
   "outputs": [
    {
     "name": "stdout",
     "output_type": "stream",
     "text": [
      "age\n",
      "10\n"
     ]
    }
   ],
   "source": [
    "print('age')\n",
    "print(age)"
   ]
  },
  {
   "attachments": {},
   "cell_type": "markdown",
   "id": "0dfd3cfe",
   "metadata": {},
   "source": [
    "# 9 Brackets"
   ]
  },
  {
   "cell_type": "code",
   "execution_count": 13,
   "id": "8dd928f6-64e5-4d8b-bb25-b13cfbfa9d59",
   "metadata": {},
   "outputs": [
    {
     "ename": "SyntaxError",
     "evalue": "cannot assign to expression here. Maybe you meant '==' instead of '='? (3763318267.py, line 2)",
     "output_type": "error",
     "traceback": [
      "\u001b[1;36m  Cell \u001b[1;32mIn[13], line 2\u001b[1;36m\u001b[0m\n\u001b[1;33m    (1 + 2) = 5\u001b[0m\n\u001b[1;37m     ^\u001b[0m\n\u001b[1;31mSyntaxError\u001b[0m\u001b[1;31m:\u001b[0m cannot assign to expression here. Maybe you meant '==' instead of '='?\n"
     ]
    }
   ],
   "source": [
    "print('Hello!')\n",
    "(1 + 2) = 5\n"
   ]
  },
  {
   "cell_type": "code",
   "execution_count": 14,
   "id": "34b31bb9-ca87-4c9b-963b-4c41e5ad38b0",
   "metadata": {},
   "outputs": [],
   "source": [
    "py_list = [1, 2, 3, 4, 5]   # A 1D list\n",
    "\n",
    "py_list_2 = [               # A 2D list\n",
    "                [1, \"A\"],      \n",
    "                [2, \"B\"],\n",
    "                [3, \"C\"],\n",
    "                [4, \"D\"],\n",
    "                [5, \"E\"]\n",
    "            ]"
   ]
  },
  {
   "attachments": {},
   "cell_type": "markdown",
   "id": "b5ad8584",
   "metadata": {},
   "source": [
    "# 10 Giving Python superpowers with Packages"
   ]
  },
  {
   "cell_type": "code",
   "execution_count": 15,
   "id": "84863912-5321-4c48-820a-56fc5ef6b77d",
   "metadata": {},
   "outputs": [],
   "source": [
    "import math\n",
    "import numpy"
   ]
  },
  {
   "cell_type": "code",
   "execution_count": 16,
   "id": "881a7d05-e8cd-4b43-be8d-a8f125c69500",
   "metadata": {},
   "outputs": [
    {
     "data": {
      "text/plain": [
       "2.0"
      ]
     },
     "execution_count": 16,
     "metadata": {},
     "output_type": "execute_result"
    }
   ],
   "source": [
    "math.sqrt(4)"
   ]
  },
  {
   "attachments": {},
   "cell_type": "markdown",
   "id": "b0bf8e37",
   "metadata": {},
   "source": [
    "## 10.1 Some Context"
   ]
  },
  {
   "attachments": {},
   "cell_type": "markdown",
   "id": "66af068b",
   "metadata": {},
   "source": [
    "## 10.2 Importing the math package"
   ]
  },
  {
   "attachments": {},
   "cell_type": "markdown",
   "id": "2de618da",
   "metadata": {},
   "source": [
    "## 10.3 Importing the numpy package"
   ]
  },
  {
   "cell_type": "code",
   "execution_count": 21,
   "id": "a34bcc89-3b0a-4a45-a5c2-29e84e88a688",
   "metadata": {},
   "outputs": [],
   "source": [
    "import numpy"
   ]
  },
  {
   "attachments": {},
   "cell_type": "markdown",
   "id": "8a1fcf1c",
   "metadata": {},
   "source": [
    "## 10.4 Why so many packages?"
   ]
  },
  {
   "attachments": {},
   "cell_type": "markdown",
   "id": "44a4c295",
   "metadata": {},
   "source": [
    "# 11 The dot (.)"
   ]
  },
  {
   "cell_type": "code",
   "execution_count": 22,
   "id": "855bc13c-1b16-45b3-b9e3-a89d2c994ea3",
   "metadata": {},
   "outputs": [
    {
     "data": {
      "text/plain": [
       "np.float64(2.0)"
      ]
     },
     "execution_count": 22,
     "metadata": {},
     "output_type": "execute_result"
    }
   ],
   "source": [
    "math.sqrt(4)\n",
    "numpy.sqrt(4)"
   ]
  },
  {
   "cell_type": "code",
   "execution_count": 24,
   "id": "5ce61382-f0b0-4a2d-9a97-96fc3e5ec421",
   "metadata": {},
   "outputs": [
    {
     "data": {
      "text/plain": [
       "'ZyZyZyZyZyh'"
      ]
     },
     "execution_count": 24,
     "metadata": {},
     "output_type": "execute_result"
    }
   ],
   "source": [
    "('hahahahahah'.replace('ha','xy')).replace('x','Z')"
   ]
  },
  {
   "cell_type": "code",
   "execution_count": 26,
   "id": "772f2088-6aa7-4d20-962d-4abd551faf87",
   "metadata": {},
   "outputs": [
    {
     "data": {
      "text/plain": [
       "'HAHAHAHAHA'"
      ]
     },
     "execution_count": 26,
     "metadata": {},
     "output_type": "execute_result"
    }
   ],
   "source": [
    "'hahahahaha'.upper()`"
   ]
  },
  {
   "cell_type": "code",
   "execution_count": 27,
   "id": "655c7dd9-5b9f-4786-8c79-e7b893c515d0",
   "metadata": {},
   "outputs": [
    {
     "ename": "SyntaxError",
     "evalue": "invalid decimal literal (3036814163.py, line 1)",
     "output_type": "error",
     "traceback": [
      "\u001b[1;36m  Cell \u001b[1;32mIn[27], line 1\u001b[1;36m\u001b[0m\n\u001b[1;33m    1234.upper()\u001b[0m\n\u001b[1;37m        ^\u001b[0m\n\u001b[1;31mSyntaxError\u001b[0m\u001b[1;31m:\u001b[0m invalid decimal literal\n"
     ]
    }
   ],
   "source": [
    "1234.upper()"
   ]
  },
  {
   "attachments": {},
   "cell_type": "markdown",
   "id": "68df763e",
   "metadata": {},
   "source": [
    "## Footnotes"
   ]
  }
 ],
 "metadata": {
  "kernelspec": {
   "display_name": "Python 3 (ipykernel)",
   "language": "python",
   "name": "python3"
  },
  "language_info": {
   "codemirror_mode": {
    "name": "ipython",
    "version": 3
   },
   "file_extension": ".py",
   "mimetype": "text/x-python",
   "name": "python",
   "nbconvert_exporter": "python",
   "pygments_lexer": "ipython3",
   "version": "3.12.3"
  },
  "toc": {
   "base_numbering": 1,
   "nav_menu": {},
   "number_sections": true,
   "sideBar": true,
   "skip_h1_title": false,
   "title_cell": "Table of Contents",
   "title_sidebar": "Contents",
   "toc_cell": false,
   "toc_position": {},
   "toc_section_display": true,
   "toc_window_display": false
  },
  "vscode": {
   "interpreter": {
    "hash": "31f2aee4e71d21fbe5cf8b01ff0e069b9275f58929596ceb00d14d90e3e16cd6"
   }
  }
 },
 "nbformat": 4,
 "nbformat_minor": 5
}
