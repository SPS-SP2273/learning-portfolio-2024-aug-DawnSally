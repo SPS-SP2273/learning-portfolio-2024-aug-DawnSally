{
 "cells": [
  {
   "attachments": {},
   "cell_type": "markdown",
   "id": "123456",
   "metadata": {},
   "source": [
    "<div style=\"text-align:left;font-size:2em\"><span style=\"font-weight:bolder;font-size:1.25em\">SP2273 | Learning Portfolio</span><br><br><span style=\"font-weight:bold;color:darkred\">Loops (Need) Exercises</span></div>"
   ]
  },
  {
   "cell_type": "markdown",
   "id": "580a78b6-fe2a-4473-b6ec-b0d447a8d18f",
   "metadata": {},
   "source": [
    "# Exercise 1 (Celsius to Fahrenheit)"
   ]
  },
  {
   "cell_type": "code",
   "execution_count": 2,
   "id": "c01b6dad-eb6b-4075-8220-a8bd93aaa759",
   "metadata": {},
   "outputs": [],
   "source": [
    "temperatures_celsius = [\n",
    "    0, 5, 10, 15, 20, 25,\n",
    "    30, 35, 40, 45, 50\n",
    "]"
   ]
  },
  {
   "cell_type": "code",
   "execution_count": 4,
   "id": "e32606c7-1dab-431f-b36f-1fca470f0911",
   "metadata": {},
   "outputs": [
    {
     "name": "stdout",
     "output_type": "stream",
     "text": [
      "0,32.0\n",
      "5,41.0\n",
      "10,50.0\n",
      "15,59.0\n",
      "20,68.0\n",
      "25,77.0\n",
      "30,86.0\n",
      "35,95.0\n",
      "40,104.0\n",
      "45,113.0\n",
      "50,122.0\n"
     ]
    }
   ],
   "source": [
    "for i in temperatures_celsius:\n",
    "    new_fahrenheit = (i * 1.8) + 32\n",
    "    print(f'{i},{new_fahrenheit}')\n"
   ]
  },
  {
   "cell_type": "markdown",
   "id": "954dfaef-29f1-449f-a37f-9e0be7a218f8",
   "metadata": {},
   "source": [
    "# Exercise 2 (Multiplication table)"
   ]
  },
  {
   "cell_type": "code",
   "execution_count": 20,
   "id": "a17f838f-2b6b-408d-9fb6-61568a8d08cc",
   "metadata": {},
   "outputs": [
    {
     "name": "stdout",
     "output_type": "stream",
     "text": [
      "A1A2A3B1B2B3C1C2C3"
     ]
    }
   ],
   "source": [
    "for letter in ['A', 'B', 'C']:\n",
    "    for number in [1, 2, 3]:\n",
    "        print(f'{letter}{number}', end='')\n"
   ]
  },
  {
   "cell_type": "code",
   "execution_count": 16,
   "id": "798b0663-0a91-4113-81e1-216f7b333873",
   "metadata": {},
   "outputs": [
    {
     "name": "stdout",
     "output_type": "stream",
     "text": [
      "1 : 1    2    3    4    5    \n",
      "2 : 2    4    6    8    10   \n",
      "3 : 3    6    9    12   15   \n",
      "4 : 4    8    12   16   20   \n",
      "5 : 5    10   15   20   25   \n"
     ]
    }
   ],
   "source": [
    "for i in range(1,6):\n",
    "    print(f'{i} : ', end='')\n",
    "    for j in range(1,6):\n",
    "        print(f'{i * j:<5}', end='')\n",
    "    print()"
   ]
  },
  {
   "cell_type": "markdown",
   "id": "ed6488f5-4d44-4cec-a5cd-47575e09fc74",
   "metadata": {},
   "source": [
    "# Exercise 3 (Stimulating a Coin Flip )"
   ]
  },
  {
   "cell_type": "code",
   "execution_count": 23,
   "id": "8c454a2f-ece1-4479-9612-62d6ee191072",
   "metadata": {},
   "outputs": [
    {
     "data": {
      "text/plain": [
       "array([0.86043822, 0.45096944, 0.80136807, 0.98001364, 0.16341269,\n",
       "       0.63527491, 0.25754741, 0.598528  , 0.62184131, 0.62227611])"
      ]
     },
     "execution_count": 23,
     "metadata": {},
     "output_type": "execute_result"
    }
   ],
   "source": [
    "np.random.rand(10)"
   ]
  },
  {
   "cell_type": "code",
   "execution_count": 65,
   "id": "5e0ff615-4821-42db-8ad4-a60c1f7c34b8",
   "metadata": {},
   "outputs": [],
   "source": [
    "real_experiments = np.random.rand(10)"
   ]
  },
  {
   "cell_type": "code",
   "execution_count": 64,
   "id": "6e09ff0c-c5c1-40c6-b3b3-9c0680e9b8ab",
   "metadata": {},
   "outputs": [
    {
     "name": "stdout",
     "output_type": "stream",
     "text": [
      "Experiment  1: No. of Heads = 4\n",
      "Experiment  2: No. of Heads = 4\n",
      "Experiment  3: No. of Heads = 10\n",
      "Experiment  4: No. of Heads = 8\n",
      "Experiment  5: No. of Heads = 7\n",
      "Experiment  6: No. of Heads = 3\n",
      "Experiment  7: No. of Heads = 4\n",
      "Experiment  8: No. of Heads = 7\n",
      "Experiment  9: No. of Heads = 5\n",
      "Experiment 10: No. of Heads = 5\n"
     ]
    }
   ],
   "source": [
    "for i in range(1,11):\n",
    "    experiments = np.random.rand(10)\n",
    "    count_heads = experiments > 0.5\n",
    "    number_heads = count_heads.sum()\n",
    "    print(f'Experiment{i:>3}: No. of Heads = {number_heads}')"
   ]
  }
 ],
 "metadata": {
  "kernelspec": {
   "display_name": "Python 3 (ipykernel)",
   "language": "python",
   "name": "python3"
  },
  "language_info": {
   "codemirror_mode": {
    "name": "ipython",
    "version": 3
   },
   "file_extension": ".py",
   "mimetype": "text/x-python",
   "name": "python",
   "nbconvert_exporter": "python",
   "pygments_lexer": "ipython3",
   "version": "3.12.3"
  },
  "toc": {
   "base_numbering": 1,
   "nav_menu": {},
   "number_sections": true,
   "sideBar": true,
   "skip_h1_title": false,
   "title_cell": "Table of Contents",
   "title_sidebar": "Contents",
   "toc_cell": false,
   "toc_position": {},
   "toc_section_display": true,
   "toc_window_display": false
  },
  "vscode": {
   "interpreter": {
    "hash": "31f2aee4e71d21fbe5cf8b01ff0e069b9275f58929596ceb00d14d90e3e16cd6"
   }
  }
 },
 "nbformat": 4,
 "nbformat_minor": 5
}
