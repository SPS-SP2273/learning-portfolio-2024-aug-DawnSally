{
 "cells": [
  {
   "attachments": {},
   "cell_type": "markdown",
   "id": "123456",
   "metadata": {},
   "source": [
    "<div style=\"text-align:left;font-size:2em\"><span style=\"font-weight:bolder;font-size:1.25em\">SP2273 | Learning Portfolio</span><br><br><span style=\"font-weight:bold;color:darkred\">Loops (Need) Exercises</span></div>"
   ]
  },
  {
   "cell_type": "markdown",
   "id": "580a78b6-fe2a-4473-b6ec-b0d447a8d18f",
   "metadata": {},
   "source": [
    "# Exercise 1 (Celsius to Fahrenheit)"
   ]
  },
  {
   "cell_type": "code",
   "execution_count": 1,
   "id": "c01b6dad-eb6b-4075-8220-a8bd93aaa759",
   "metadata": {},
   "outputs": [],
   "source": [
    "temperatures_celsius = [\n",
    "    0, 5, 10, 15, 20, 25,\n",
    "    30, 35, 40, 45, 50\n",
    "]"
   ]
  },
  {
   "cell_type": "code",
   "execution_count": 2,
   "id": "36117b56-2e91-44b3-8d91-df76c8a46330",
   "metadata": {},
   "outputs": [],
   "source": [
    "import numpy as np"
   ]
  },
  {
   "cell_type": "code",
   "execution_count": 35,
   "id": "e32606c7-1dab-431f-b36f-1fca470f0911",
   "metadata": {},
   "outputs": [],
   "source": [
    "np_array = np.array(temperatures_celsius)\n",
    "temperatures_fahrenheit = (np_array * 1.8).astype(int) + 32\n"
   ]
  },
  {
   "cell_type": "code",
   "execution_count": 36,
   "id": "66695b8a-fca2-405b-a816-3c9e0bd9d9ed",
   "metadata": {},
   "outputs": [
    {
     "name": "stdout",
     "output_type": "stream",
     "text": [
      "0, 32\n",
      "5, 41\n",
      "10, 50\n",
      "15, 59\n",
      "20, 68\n",
      "25, 77\n",
      "30, 86\n",
      "35, 95\n",
      "40, 104\n",
      "45, 113\n",
      "50, 122\n"
     ]
    }
   ],
   "source": [
    "for index, temperature in enumerate(temperatures_celsius):\n",
    "    new_fahrenheit = temperatures_fahrenheit[index]\n",
    "    print(f'{temperature}, {new_fahrenheit}')"
   ]
  },
  {
   "cell_type": "markdown",
   "id": "954dfaef-29f1-449f-a37f-9e0be7a218f8",
   "metadata": {},
   "source": [
    "# Exercise 2 (Multiplication table)"
   ]
  },
  {
   "cell_type": "code",
   "execution_count": null,
   "id": "798b0663-0a91-4113-81e1-216f7b333873",
   "metadata": {},
   "outputs": [],
   "source": [
    "super_numbers = [\"Black Widow\", \"Iron Man\", \"Doctor Strange\"]\n",
    "real_numbers = [\"1\", \"2\", \"3\", \"4\", \"5\"]"
   ]
  },
  {
   "cell_type": "code",
   "execution_count": 52,
   "id": "abe3be2b-cabc-428a-b2ee-0295fd6c1524",
   "metadata": {},
   "outputs": [
    {
     "ename": "SyntaxError",
     "evalue": "expression cannot contain assignment, perhaps you meant \"==\"? (498526046.py, line 4)",
     "output_type": "error",
     "traceback": [
      "\u001b[1;36m  Cell \u001b[1;32mIn[52], line 4\u001b[1;36m\u001b[0m\n\u001b[1;33m    print(f'{count}: {number}{factor}'. end='\\t')\u001b[0m\n\u001b[1;37m          ^\u001b[0m\n\u001b[1;31mSyntaxError\u001b[0m\u001b[1;31m:\u001b[0m expression cannot contain assignment, perhaps you meant \"==\"?\n"
     ]
    }
   ],
   "source": [
    "real_numbers = [\"1\", \"2\", \"3\", \"4\", \"5\"]\n",
    "for count, number in enumerate(real_numbers, 1):\n",
    "    for factor in [1, 2, 3, 4, 5]:\n",
    "        print(f'{count}: {number}{factor}'. end='\\t')\n",
    "    print('\\n')"
   ]
  },
  {
   "cell_type": "markdown",
   "id": "ed6488f5-4d44-4cec-a5cd-47575e09fc74",
   "metadata": {},
   "source": [
    "# Exercise 3 (Stimulating a )"
   ]
  },
  {
   "cell_type": "code",
   "execution_count": null,
   "id": "8c454a2f-ece1-4479-9612-62d6ee191072",
   "metadata": {},
   "outputs": [],
   "source": []
  }
 ],
 "metadata": {
  "kernelspec": {
   "display_name": "Python 3 (ipykernel)",
   "language": "python",
   "name": "python3"
  },
  "language_info": {
   "codemirror_mode": {
    "name": "ipython",
    "version": 3
   },
   "file_extension": ".py",
   "mimetype": "text/x-python",
   "name": "python",
   "nbconvert_exporter": "python",
   "pygments_lexer": "ipython3",
   "version": "3.12.3"
  },
  "toc": {
   "base_numbering": 1,
   "nav_menu": {},
   "number_sections": true,
   "sideBar": true,
   "skip_h1_title": false,
   "title_cell": "Table of Contents",
   "title_sidebar": "Contents",
   "toc_cell": false,
   "toc_position": {},
   "toc_section_display": true,
   "toc_window_display": false
  },
  "vscode": {
   "interpreter": {
    "hash": "31f2aee4e71d21fbe5cf8b01ff0e069b9275f58929596ceb00d14d90e3e16cd6"
   }
  }
 },
 "nbformat": 4,
 "nbformat_minor": 5
}
