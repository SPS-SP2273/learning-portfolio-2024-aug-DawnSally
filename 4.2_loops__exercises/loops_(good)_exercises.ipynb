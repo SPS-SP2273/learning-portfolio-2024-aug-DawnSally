{
 "cells": [
  {
   "attachments": {},
   "cell_type": "markdown",
   "id": "123456",
   "metadata": {},
   "source": [
    "<div style=\"text-align:left;font-size:2em\"><span style=\"font-weight:bolder;font-size:1.25em\">SP2273 | Learning Portfolio</span><br><br><span style=\"font-weight:bold;color:darkred\">Loops (Good) Exercises</span></div>"
   ]
  },
  {
   "cell_type": "markdown",
   "id": "a380bbef-1e31-4623-beeb-250687cd1afd",
   "metadata": {},
   "source": [
    "# Exercise 1 (Make me an odd list)"
   ]
  },
  {
   "cell_type": "code",
   "execution_count": 1,
   "id": "b51e939b-2bbf-4d9d-a003-2f44fe4b83cf",
   "metadata": {},
   "outputs": [
    {
     "name": "stdout",
     "output_type": "stream",
     "text": [
      "1\n",
      "9\n",
      "25\n",
      "49\n",
      "81\n"
     ]
    }
   ],
   "source": [
    "for i in range(10):\n",
    "    if i % 2 == 0:\n",
    "        continue\n",
    "\n",
    "    number = i**2\n",
    "    print(number)"
   ]
  },
  {
   "cell_type": "markdown",
   "id": "2988ad1f-fce6-487c-ad79-ab01de4b76b8",
   "metadata": {},
   "source": [
    "# Exercise 2 (Make me another odd list)"
   ]
  },
  {
   "cell_type": "code",
   "execution_count": 2,
   "id": "04cba94a-7caf-43f0-bc0e-64102f3e2382",
   "metadata": {},
   "outputs": [
    {
     "data": {
      "text/plain": [
       "[1, 9, 25, 49, 81]"
      ]
     },
     "execution_count": 2,
     "metadata": {},
     "output_type": "execute_result"
    }
   ],
   "source": [
    "[i**2 for i in range(10) if i % 2 !=0]"
   ]
  },
  {
   "cell_type": "markdown",
   "id": "d872099f-925a-405d-8e46-89310bbe3320",
   "metadata": {},
   "source": [
    "# Exercise 3 (Time me!)"
   ]
  },
  {
   "cell_type": "code",
   "execution_count": 3,
   "id": "f0eb796c-d704-4225-aa78-4e055c0a9ce1",
   "metadata": {},
   "outputs": [
    {
     "name": "stdout",
     "output_type": "stream",
     "text": [
      "1.38 μs ± 506 ns per loop (mean ± std. dev. of 7 runs, 1,000,000 loops each)\n"
     ]
    }
   ],
   "source": [
    "%%timeit\n",
    "for i in range(10):\n",
    "    if i % 2 == 0:\n",
    "        continue\n",
    "    number = i**2"
   ]
  },
  {
   "cell_type": "code",
   "execution_count": 4,
   "id": "832562b8-301b-46d4-98f9-a7c265a5e2ed",
   "metadata": {},
   "outputs": [
    {
     "name": "stdout",
     "output_type": "stream",
     "text": [
      "2.06 μs ± 19.1 ns per loop (mean ± std. dev. of 7 runs, 100,000 loops each)\n"
     ]
    }
   ],
   "source": [
    "%%timeit\n",
    "[i**2 for i in range(10) if i % 2 !=0]"
   ]
  },
  {
   "cell_type": "markdown",
   "id": "1fcdeb5b-1d36-4006-a022-5233d9b47a6c",
   "metadata": {},
   "source": [
    "The list comprehension with condition runs faster than the for loop as there is lesser lines in the code"
   ]
  },
  {
   "cell_type": "markdown",
   "id": "4656157d-1219-4e7e-ac86-8fdba491a7d3",
   "metadata": {},
   "source": [
    "# Exercise 4 (A problem of decay)"
   ]
  },
  {
   "cell_type": "code",
   "execution_count": 25,
   "id": "069fa087-1420-4828-a3f2-7992dcf3d48c",
   "metadata": {},
   "outputs": [
    {
     "name": "stdout",
     "output_type": "stream",
     "text": [
      "0,100\n",
      "1,95.0\n",
      "2,90.25\n",
      "3,85.7375\n",
      "4,81.45062499999999\n",
      "5,77.37809374999999\n",
      "6,73.50918906249998\n",
      "7,69.83372960937498\n",
      "8,66.34204312890623\n",
      "9,63.02494097246091\n",
      "10,59.87369392383786\n",
      "11,56.880009227645964\n",
      "12,54.03600876626366\n",
      "13,51.33420832795048\n"
     ]
    }
   ],
   "source": [
    "number = 100\n",
    "loop_counter = 0\n",
    "while number >= 50:\n",
    "    print(f'{loop_counter}:{number}')\n",
    "    number *= 0.95\n",
    "    loop_counter += 1    "
   ]
  },
  {
   "cell_type": "markdown",
   "id": "2232e90d-6094-4625-8eb2-e9a0e8e97532",
   "metadata": {},
   "source": [
    "Conclusion: It took 14 years for sample to decrease to half of its original amount"
   ]
  },
  {
   "cell_type": "markdown",
   "id": "34ccebb5-575c-46e9-99ee-88784bfd6284",
   "metadata": {},
   "source": [
    "# Exercise 5 (Changes in CO2)"
   ]
  },
  {
   "cell_type": "code",
   "execution_count": 27,
   "id": "4acf301f-65e4-4730-b82f-f32322e6edef",
   "metadata": {},
   "outputs": [],
   "source": [
    "import numpy as np"
   ]
  },
  {
   "cell_type": "code",
   "execution_count": 56,
   "id": "46e14b2e-5b8a-4a37-ba75-029911759efe",
   "metadata": {},
   "outputs": [],
   "source": [
    "np_array = np.array([\n",
    "    (2000, 369.55), (2001, 371.14), (2002, 373.28), \n",
    "    (2003, 375.80), (2004, 377.52), (2005, 379.80), \n",
    "    (2006, 381.90), (2007, 383.79), (2008, 385.60), \n",
    "    (2009, 387.43), (2010, 389.90), (2011, 391.65), \n",
    "    (2012, 393.85), (2013, 396.52), (2014, 398.65),\n",
    "    (2015, 400.83), (2016, 404.24), (2017, 406.55), \n",
    "    (2018, 408.52), (2019, 411.44), (2020, 414.24)\n",
    "])"
   ]
  },
  {
   "cell_type": "code",
   "execution_count": 58,
   "id": "a7a13641-6407-47da-b3fc-e3abc63efa4c",
   "metadata": {},
   "outputs": [
    {
     "name": "stdout",
     "output_type": "stream",
     "text": [
      "[(np.float64(2016.0), np.float64(3.410000000000025))]\n"
     ]
    }
   ],
   "source": [
    "def find_data(np_array):\n",
    "    results = []\n",
    "    for i in range(1, len(np_array)):\n",
    "        year, co2_level = np_array[i]\n",
    "        prev_year, prev_co2 = np_array[i - 1]\n",
    "        co2_change = co2_level - prev_co2\n",
    "        if co2_change >= 3:\n",
    "            results.append((year,co2_change))\n",
    "    return results\n",
    "\n",
    "results = find_data(np_array)\n",
    "print(results)"
   ]
  }
 ],
 "metadata": {
  "kernelspec": {
   "display_name": "Python 3 (ipykernel)",
   "language": "python",
   "name": "python3"
  },
  "language_info": {
   "codemirror_mode": {
    "name": "ipython",
    "version": 3
   },
   "file_extension": ".py",
   "mimetype": "text/x-python",
   "name": "python",
   "nbconvert_exporter": "python",
   "pygments_lexer": "ipython3",
   "version": "3.12.3"
  },
  "toc": {
   "base_numbering": 1,
   "nav_menu": {},
   "number_sections": true,
   "sideBar": true,
   "skip_h1_title": false,
   "title_cell": "Table of Contents",
   "title_sidebar": "Contents",
   "toc_cell": false,
   "toc_position": {},
   "toc_section_display": true,
   "toc_window_display": false
  },
  "vscode": {
   "interpreter": {
    "hash": "31f2aee4e71d21fbe5cf8b01ff0e069b9275f58929596ceb00d14d90e3e16cd6"
   }
  }
 },
 "nbformat": 4,
 "nbformat_minor": 5
}
