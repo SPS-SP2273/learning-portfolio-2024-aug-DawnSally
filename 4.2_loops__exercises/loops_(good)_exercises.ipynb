{
 "cells": [
  {
   "attachments": {},
   "cell_type": "markdown",
   "id": "123456",
   "metadata": {},
   "source": [
    "<div style=\"text-align:left;font-size:2em\"><span style=\"font-weight:bolder;font-size:1.25em\">SP2273 | Learning Portfolio</span><br><br><span style=\"font-weight:bold;color:darkred\">Loops (Good) Exercises</span></div>"
   ]
  },
  {
   "cell_type": "markdown",
   "id": "a380bbef-1e31-4623-beeb-250687cd1afd",
   "metadata": {},
   "source": [
    "# Exercise 1 (Make me an odd list)"
   ]
  },
  {
   "cell_type": "markdown",
   "id": "2988ad1f-fce6-487c-ad79-ab01de4b76b8",
   "metadata": {},
   "source": [
    "# Exercise 2 (Make me another odd list)"
   ]
  },
  {
   "cell_type": "markdown",
   "id": "d872099f-925a-405d-8e46-89310bbe3320",
   "metadata": {},
   "source": [
    "# Exercise 3 (Time me!)"
   ]
  },
  {
   "cell_type": "markdown",
   "id": "4656157d-1219-4e7e-ac86-8fdba491a7d3",
   "metadata": {},
   "source": [
    "# Exercise 4 (A problem of decay)"
   ]
  },
  {
   "cell_type": "code",
   "execution_count": null,
   "id": "069fa087-1420-4828-a3f2-7992dcf3d48c",
   "metadata": {},
   "outputs": [],
   "source": []
  }
 ],
 "metadata": {
  "kernelspec": {
   "display_name": "Python 3 (ipykernel)",
   "language": "python",
   "name": "python3"
  },
  "language_info": {
   "codemirror_mode": {
    "name": "ipython",
    "version": 3
   },
   "file_extension": ".py",
   "mimetype": "text/x-python",
   "name": "python",
   "nbconvert_exporter": "python",
   "pygments_lexer": "ipython3",
   "version": "3.12.3"
  },
  "toc": {
   "base_numbering": 1,
   "nav_menu": {},
   "number_sections": true,
   "sideBar": true,
   "skip_h1_title": false,
   "title_cell": "Table of Contents",
   "title_sidebar": "Contents",
   "toc_cell": false,
   "toc_position": {},
   "toc_section_display": true,
   "toc_window_display": false
  },
  "vscode": {
   "interpreter": {
    "hash": "31f2aee4e71d21fbe5cf8b01ff0e069b9275f58929596ceb00d14d90e3e16cd6"
   }
  }
 },
 "nbformat": 4,
 "nbformat_minor": 5
}
