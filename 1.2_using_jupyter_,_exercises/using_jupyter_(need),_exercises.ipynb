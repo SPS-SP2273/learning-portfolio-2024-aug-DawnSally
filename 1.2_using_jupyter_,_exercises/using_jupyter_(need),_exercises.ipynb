{
 "cells": [
  {
   "attachments": {},
   "cell_type": "markdown",
   "id": "123456",
   "metadata": {},
   "source": [
    "<div style=\"text-align:left;font-size:2em\"><span style=\"font-weight:bolder;font-size:1.25em\">SP2273 | Learning Portfolio</span><br><br><span style=\"font-weight:bold;color:darkred\">Using Jupyter (Need), Exercises</span></div>"
   ]
  },
  {
   "attachments": {},
   "cell_type": "markdown",
   "id": "279b234c",
   "metadata": {},
   "source": [
    "# Quadratic Equations\n",
    "## Introduction\n",
    "![](https://upload.wikimedia.org/wikipedia/commons/thumb/f/f8/Polynomialdeg2.svg/450px-Polynomialdeg2.svg.png)\n",
    "\n",
    "(Image from the [Wikipedia page on Quadratic equations](https://en.wikipedia.org/wiki/Quadratic_equation))\n",
    "The general form of a quadratic equation is:\n",
    "                          $ax^{2}+bx+c=0$\n",
    "\n",
    "                         \n",
    "                         "
   ]
  },
  {
   "cell_type": "markdown",
   "id": "d654b576-bb9f-4bba-9e58-8d9ab01ddfa7",
   "metadata": {},
   "source": [
    "[](https://upload.wikimedia.org/wikipedia/commons/thumb/f/f8/Polynomialdeg2.svg/450px-Polynomialdeg2.svg.png)\n",
    "\n"
   ]
  },
  {
   "cell_type": "markdown",
   "id": "d18607c6-ae75-4fba-be67-63cb999bc67f",
   "metadata": {},
   "source": [
    "## Solutions \n",
    "Provided $a \\ne 0$, we can use an elementary algebraic method called <ins>[completing the square](https://en.wikipedia.org/wiki/Completing_the_square)<ins> to show that a quadratic equation has the following solution:\n",
    "$$\n",
    "x = \\dfrac{-b \\pm \\sqrt{b^2-4ac}}{2a}\n",
    "$$\n"
   ]
  },
  {
   "cell_type": "markdown",
   "id": "e676ad8d-9b25-4956-a47a-e2f030d1fbee",
   "metadata": {},
   "source": [
    "## Discriminant\n",
    "The quantity $\\Delta$$=b^2-4ac$ is called the **discriminant** of the equation and decides the nature of its solutions. The table below shows the various possibilities.\n",
    "| Discriminants   |  Roots  |  \n",
    "| :--- | :--: | \n",
    "| $\\Delta$$=b^2-4ac=0$  |  A single solution of $-b/(2a)$  |   \n",
    "|  $\\Delta$$=b^2-4ac\\gt 0$ |Two distinct solutions|   \n",
    "|  $\\Delta$$=b^2-4ac \\lt 0$  |  No real solutions; both are complex  |  \n",
    "\n"
   ]
  }
 ],
 "metadata": {
  "kernelspec": {
   "display_name": "Python 3 (ipykernel)",
   "language": "python",
   "name": "python3"
  },
  "language_info": {
   "codemirror_mode": {
    "name": "ipython",
    "version": 3
   },
   "file_extension": ".py",
   "mimetype": "text/x-python",
   "name": "python",
   "nbconvert_exporter": "python",
   "pygments_lexer": "ipython3",
   "version": "3.12.3"
  },
  "toc": {
   "base_numbering": 1,
   "nav_menu": {},
   "number_sections": true,
   "sideBar": true,
   "skip_h1_title": false,
   "title_cell": "Table of Contents",
   "title_sidebar": "Contents",
   "toc_cell": false,
   "toc_position": {},
   "toc_section_display": true,
   "toc_window_display": false
  },
  "vscode": {
   "interpreter": {
    "hash": "31f2aee4e71d21fbe5cf8b01ff0e069b9275f58929596ceb00d14d90e3e16cd6"
   }
  }
 },
 "nbformat": 4,
 "nbformat_minor": 5
}
