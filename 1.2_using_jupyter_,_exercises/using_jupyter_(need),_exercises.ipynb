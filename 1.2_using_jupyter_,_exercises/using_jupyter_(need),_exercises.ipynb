{
 "cells": [
  {
   "attachments": {},
   "cell_type": "markdown",
   "id": "123456",
   "metadata": {},
   "source": [
    "<div style=\"text-align:left;font-size:2em\"><span style=\"font-weight:bolder;font-size:1.25em\">SP2273 | Learning Portfolio</span><br><br><span style=\"font-weight:bold;color:darkred\">Using Jupyter (Need), Exercises</span></div>"
   ]
  },
  {
   "attachments": {},
   "cell_type": "markdown",
   "id": "279b234c",
   "metadata": {},
   "source": [
    "# Quadratic Equations\n",
    "## Introduction\n",
    "![](https://upload.wikimedia.org/wikipedia/commons/thumb/f/f8/Polynomialdeg2.svg/450px-Polynomialdeg2.svg.png) \n",
    "\n",
    "(Image from the [Wikipedia page on Quadratic equations](https://en.wikipedia.org/wiki/Quadratic_equation))  \n",
    "\n",
    "The general form of a quadratic equation is:  \n",
    "                          $ax^{2}+bx+c=0$\n",
    "\n",
    "                         \n",
    "                         "
   ]
  },
  {
   "cell_type": "markdown",
   "id": "d18607c6-ae75-4fba-be67-63cb999bc67f",
   "metadata": {},
   "source": [
    "## Solutions \n",
    "Provided $a \\ne 0$, we can use an elementary algebraic method called [completing the square](https://en.wikipedia.org/wiki/Completing_the_square) to show that a quadratic equation has the following solution:\n",
    "$$\n",
    "x = \\dfrac{-b \\pm \\sqrt{b^2-4ac}}{2a}\n",
    "$$\n"
   ]
  },
  {
   "cell_type": "markdown",
   "id": "e676ad8d-9b25-4956-a47a-e2f030d1fbee",
   "metadata": {},
   "source": [
    "## Discriminant\n",
    "The quantity $\\Delta=b^2-4ac$ is called the **discriminant** of the equation and decides the nature of its solutions. The table below shows the various possibilities.\n",
    "\n",
    "| Discriminants   |  Roots  |  \n",
    "| :--- | :-- | \n",
    "| $\\Delta=b^2-4ac=0$  |  A single solution of $-b/(2a)$  |   \n",
    "|  $\\Delta=b^2-4ac\\gt 0$ |Two distinct solutions|   \n",
    "|  $\\Delta=b^2-4ac \\lt 0$  |  No real solutions; both are complex  |  \n",
    "\n"
   ]
  },
  {
   "cell_type": "markdown",
   "id": "cf1dc6d2-0a5a-4fc7-b71d-6fbe5a902be4",
   "metadata": {},
   "source": [
    "# Exercise 2\n",
    "1. A Git repository records the file versions I authorized Git to track. It is a place where I can store my code, files and each of my file's revision history\n",
    "2. Changes\n",
    "3. Git commit is a local operation that identifies specific changes e.g. When the changes were made and who created these changes\n",
    "4. Push is how we transfer our commits from our git repository to a remote repository\n",
    "5. The pull command is used to fetch and download content from a remote repository and merges it\n",
    "6. GitHub is a cloud-based hosting platform that enables us to manage our Git repository whereas GitHub Desktop is an application that lets users interact better with GitHub through a GUI"
   ]
  },
  {
   "cell_type": "markdown",
   "id": "a25f5f29-aa7a-4dd5-952c-e66e264510b6",
   "metadata": {},
   "source": [
    "# Exercise 3 (A Matter of Statistics)\n",
    "$\\mu=\\dfrac{1}{n}\\sum_{i=1}^{n}x_i$"
   ]
  },
  {
   "cell_type": "markdown",
   "id": "d4783c5c-0615-4d25-b85f-57db3027056d",
   "metadata": {},
   "source": [
    "$\\sigma=\\sqrt{\\dfrac{1}{n}\\sum_{i=1}^{n}(x_i-\\mu)^2}$"
   ]
  },
  {
   "cell_type": "markdown",
   "id": "2cc222e8-67c6-4853-a876-1bf434078ecc",
   "metadata": {},
   "source": [
    "$\\gamma=\\dfrac{\\sum_{i=1}^{n}(x_i-\\mu_X)(y_i-\\mu_Y)}{\\sqrt{\\sum_{i=1}^{n}(x_i-\\mu_X)^2\\sum_{i=1}^{n}(y_i-\\mu_Y)^2}}$"
   ]
  }
 ],
 "metadata": {
  "kernelspec": {
   "display_name": "Python 3 (ipykernel)",
   "language": "python",
   "name": "python3"
  },
  "language_info": {
   "codemirror_mode": {
    "name": "ipython",
    "version": 3
   },
   "file_extension": ".py",
   "mimetype": "text/x-python",
   "name": "python",
   "nbconvert_exporter": "python",
   "pygments_lexer": "ipython3",
   "version": "3.12.3"
  },
  "toc": {
   "base_numbering": 1,
   "nav_menu": {},
   "number_sections": true,
   "sideBar": true,
   "skip_h1_title": false,
   "title_cell": "Table of Contents",
   "title_sidebar": "Contents",
   "toc_cell": false,
   "toc_position": {},
   "toc_section_display": true,
   "toc_window_display": false
  },
  "vscode": {
   "interpreter": {
    "hash": "31f2aee4e71d21fbe5cf8b01ff0e069b9275f58929596ceb00d14d90e3e16cd6"
   }
  }
 },
 "nbformat": 4,
 "nbformat_minor": 5
}
