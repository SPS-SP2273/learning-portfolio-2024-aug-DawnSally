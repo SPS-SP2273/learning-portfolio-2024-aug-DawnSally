{
 "cells": [
  {
   "attachments": {},
   "cell_type": "markdown",
   "id": "123456",
   "metadata": {},
   "source": [
    "<div style=\"text-align:left;font-size:2em\"><span style=\"font-weight:bolder;font-size:1.25em\">SP2273 | Learning Portfolio</span><br><br><span style=\"font-weight:bold;color:darkred\">Storing Data (Need) Exercises</span></div>"
   ]
  },
  {
   "cell_type": "markdown",
   "id": "87a0341e-9bad-42e9-a7b9-3f8cd45d050f",
   "metadata": {},
   "source": [
    "## Exercise 1 (Total recall?)\n",
    "1. Both arrays and lists are used for storing the a range of data. Both arrays and lists can be sliced\n",
    "2. Multiplying by a number makes a list grow whereas multiplying an array by a number multiplies its elements by the number. Arrays insist on having only a single data type whereas lists accept more data type \n",
    "3. Dictionaries hold _data paired with a key_"
   ]
  },
  {
   "cell_type": "markdown",
   "id": "d911a76c-6360-497f-bf10-b607230e26e9",
   "metadata": {},
   "source": [
    "## Exercise 2(Indexing)"
   ]
  },
  {
   "cell_type": "code",
   "execution_count": 1,
   "id": "74365dc2-93a0-418b-a4f8-31b5bf18d6cc",
   "metadata": {},
   "outputs": [
    {
     "name": "stdout",
     "output_type": "stream",
     "text": [
      "a1\n",
      "c3\n",
      "e5\n",
      "g7\n",
      "i9\n"
     ]
    }
   ],
   "source": [
    "py_list = [\"a1\", \"b2\", \"c3\", \"d4\", \"e5\", \"f6\", \"g7\", \"h8\", \"i9\", \"j10\"]\n",
    "print(py_list[0])   \n",
    "print(py_list[2])\n",
    "print(py_list[4])\n",
    "print(py_list[6])\n",
    "print(py_list[8])   "
   ]
  },
  {
   "cell_type": "markdown",
   "id": "3f8445df-7d2e-4579-857c-f37a31be53ee",
   "metadata": {},
   "source": [
    "## Exercise 3(Index again)"
   ]
  },
  {
   "cell_type": "code",
   "execution_count": 2,
   "id": "c2fc1735-0a3e-441d-90f2-1fc5a9695941",
   "metadata": {},
   "outputs": [],
   "source": [
    "elements = ['Hydrogen',\n",
    "            'Helium', 'Lithium',\n",
    "            'Beryllium', 'Boron', 'Carbon',\n",
    "            'Nitrogen', 'Oxygen',\n",
    "            'Fluorine',\n",
    "            'Neon']"
   ]
  },
  {
   "cell_type": "code",
   "execution_count": 5,
   "id": "5e7db4b6-d47f-4638-b85a-6390a0185d22",
   "metadata": {},
   "outputs": [
    {
     "data": {
      "text/plain": [
       "'Boron'"
      ]
     },
     "execution_count": 5,
     "metadata": {},
     "output_type": "execute_result"
    }
   ],
   "source": [
    "elements[4]"
   ]
  },
  {
   "cell_type": "code",
   "execution_count": 7,
   "id": "1d70fd55-6ccf-453e-be57-a24acdcff349",
   "metadata": {},
   "outputs": [
    {
     "data": {
      "text/plain": [
       "'Boron'"
      ]
     },
     "execution_count": 7,
     "metadata": {},
     "output_type": "execute_result"
    }
   ],
   "source": [
    "elements[-6]"
   ]
  },
  {
   "cell_type": "code",
   "execution_count": null,
   "id": "07d4bef5-8eb2-4660-8ab7-cf332efc647b",
   "metadata": {},
   "outputs": [],
   "source": []
  }
 ],
 "metadata": {
  "kernelspec": {
   "display_name": "Python 3 (ipykernel)",
   "language": "python",
   "name": "python3"
  },
  "language_info": {
   "codemirror_mode": {
    "name": "ipython",
    "version": 3
   },
   "file_extension": ".py",
   "mimetype": "text/x-python",
   "name": "python",
   "nbconvert_exporter": "python",
   "pygments_lexer": "ipython3",
   "version": "3.12.3"
  },
  "toc": {
   "base_numbering": 1,
   "nav_menu": {},
   "number_sections": true,
   "sideBar": true,
   "skip_h1_title": false,
   "title_cell": "Table of Contents",
   "title_sidebar": "Contents",
   "toc_cell": false,
   "toc_position": {},
   "toc_section_display": true,
   "toc_window_display": false
  },
  "vscode": {
   "interpreter": {
    "hash": "31f2aee4e71d21fbe5cf8b01ff0e069b9275f58929596ceb00d14d90e3e16cd6"
   }
  }
 },
 "nbformat": 4,
 "nbformat_minor": 5
}
