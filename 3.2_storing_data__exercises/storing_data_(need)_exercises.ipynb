{
 "cells": [
  {
   "attachments": {},
   "cell_type": "markdown",
   "id": "123456",
   "metadata": {},
   "source": [
    "<div style=\"text-align:left;font-size:2em\"><span style=\"font-weight:bolder;font-size:1.25em\">SP2273 | Learning Portfolio</span><br><br><span style=\"font-weight:bold;color:darkred\">Storing Data (Need) Exercises</span></div>"
   ]
  },
  {
   "cell_type": "markdown",
   "id": "87a0341e-9bad-42e9-a7b9-3f8cd45d050f",
   "metadata": {},
   "source": [
    "## Exercise 1 (Total recall?)\n",
    "1. Both arrays and lists are used for storing the a range of data. Both arrays and lists can be sliced\n",
    "2. Multiplying by a number makes a list grow whereas multiplying an array by a number multiplies its elements by the number. Arrays insist on having only a single data type whereas lists accept more data type \n",
    "3. Dictionaries hold _data paired with a key_"
   ]
  },
  {
   "cell_type": "markdown",
   "id": "d911a76c-6360-497f-bf10-b607230e26e9",
   "metadata": {},
   "source": [
    "## Exercise 2(Indexing)"
   ]
  },
  {
   "cell_type": "code",
   "execution_count": 1,
   "id": "74365dc2-93a0-418b-a4f8-31b5bf18d6cc",
   "metadata": {},
   "outputs": [
    {
     "name": "stdout",
     "output_type": "stream",
     "text": [
      "a1\n",
      "c3\n",
      "e5\n",
      "g7\n",
      "i9\n"
     ]
    }
   ],
   "source": [
    "py_list = [\"a1\", \"b2\", \"c3\", \"d4\", \"e5\", \"f6\", \"g7\", \"h8\", \"i9\", \"j10\"]\n",
    "print(py_list[0])   \n",
    "print(py_list[2])\n",
    "print(py_list[4])\n",
    "print(py_list[6])\n",
    "print(py_list[8])   "
   ]
  },
  {
   "cell_type": "markdown",
   "id": "3f8445df-7d2e-4579-857c-f37a31be53ee",
   "metadata": {},
   "source": [
    "## Exercise 3(Index again)"
   ]
  },
  {
   "cell_type": "code",
   "execution_count": 2,
   "id": "c2fc1735-0a3e-441d-90f2-1fc5a9695941",
   "metadata": {},
   "outputs": [],
   "source": [
    "elements = ['Hydrogen',\n",
    "            'Helium', 'Lithium',\n",
    "            'Beryllium', 'Boron', 'Carbon',\n",
    "            'Nitrogen', 'Oxygen',\n",
    "            'Fluorine',\n",
    "            'Neon']"
   ]
  },
  {
   "cell_type": "code",
   "execution_count": 5,
   "id": "5e7db4b6-d47f-4638-b85a-6390a0185d22",
   "metadata": {},
   "outputs": [
    {
     "data": {
      "text/plain": [
       "'Boron'"
      ]
     },
     "execution_count": 5,
     "metadata": {},
     "output_type": "execute_result"
    }
   ],
   "source": [
    "elements[4]"
   ]
  },
  {
   "cell_type": "code",
   "execution_count": 7,
   "id": "1d70fd55-6ccf-453e-be57-a24acdcff349",
   "metadata": {},
   "outputs": [
    {
     "data": {
      "text/plain": [
       "'Boron'"
      ]
     },
     "execution_count": 7,
     "metadata": {},
     "output_type": "execute_result"
    }
   ],
   "source": [
    "elements[-6]"
   ]
  },
  {
   "cell_type": "markdown",
   "id": "1b18ade3-85f0-4d60-ae19-a91fc2eb34a0",
   "metadata": {},
   "source": [
    "## Exercise 4(How many ones)"
   ]
  },
  {
   "cell_type": "code",
   "execution_count": 2,
   "id": "af2baf1e-6014-455e-b0fc-352b44182873",
   "metadata": {},
   "outputs": [],
   "source": [
    "import numpy as np"
   ]
  },
  {
   "cell_type": "code",
   "execution_count": 15,
   "id": "105dbec1-46b1-4713-afa4-8f69a0cdf982",
   "metadata": {},
   "outputs": [],
   "source": [
    "x = np.array([45, 60, 1, 30, 96, 1, 96, 57, 16, 1,\n",
    "        99, 62, 86, 43, 42, 60, 59, 1, 1, 35,\n",
    "        83, 47, 34, 28, 68, 23, 22, 92, 1, 79,\n",
    "        1, 29, 94, 72, 46, 47, 1, 74, 32, 20,\n",
    "        8, 37, 35, 1, 89, 29, 86, 19, 43, 61])"
   ]
  },
  {
   "cell_type": "code",
   "execution_count": 16,
   "id": "fd029057-3a0b-4a9e-964c-e493be5460b3",
   "metadata": {},
   "outputs": [
    {
     "data": {
      "text/plain": [
       "np.int64(9)"
      ]
     },
     "execution_count": 16,
     "metadata": {},
     "output_type": "execute_result"
    }
   ],
   "source": [
    "(x == 1).sum()"
   ]
  },
  {
   "cell_type": "markdown",
   "id": "998a6eb2-6069-4a90-a327-f7572607e9e3",
   "metadata": {},
   "source": [
    "## Exercise 5 (A Matter of Statistics)"
   ]
  },
  {
   "cell_type": "code",
   "execution_count": 59,
   "id": "4081802b-3af5-4997-be45-a880d7dddcaf",
   "metadata": {},
   "outputs": [],
   "source": [
    "x_1 = np.array([1, 4, 9, 16, 25, 36, 49, 64, 81, 100])\n",
    "x_2 = np.array([1, 8, 27, 64, 125, 216, 343, 512, 729, 1000])"
   ]
  },
  {
   "cell_type": "markdown",
   "id": "38f7b777-e262-4a8a-8090-3006acb1497e",
   "metadata": {},
   "source": [
    "### Determining the mean"
   ]
  },
  {
   "cell_type": "code",
   "execution_count": 60,
   "id": "c93a9217-7a1d-4668-86e8-1f818baee869",
   "metadata": {},
   "outputs": [
    {
     "data": {
      "text/plain": [
       "np.float64(38.5)"
      ]
     },
     "execution_count": 60,
     "metadata": {},
     "output_type": "execute_result"
    }
   ],
   "source": [
    "np.mean(x_1)"
   ]
  },
  {
   "cell_type": "code",
   "execution_count": 61,
   "id": "ad88413b-69e3-4bf2-a0b8-889e9a699230",
   "metadata": {},
   "outputs": [
    {
     "data": {
      "text/plain": [
       "np.float64(302.5)"
      ]
     },
     "execution_count": 61,
     "metadata": {},
     "output_type": "execute_result"
    }
   ],
   "source": [
    "np.mean(x_2)\n"
   ]
  },
  {
   "cell_type": "markdown",
   "id": "cca87d9b-55f0-4e32-96da-17c267893c2f",
   "metadata": {},
   "source": [
    "### Determining the standard deviation "
   ]
  },
  {
   "cell_type": "code",
   "execution_count": 20,
   "id": "e7df5340-8fd0-45b7-a943-6236219adb9f",
   "metadata": {},
   "outputs": [
    {
     "data": {
      "text/plain": [
       "np.float64(32.41990129534635)"
      ]
     },
     "execution_count": 20,
     "metadata": {},
     "output_type": "execute_result"
    }
   ],
   "source": [
    "np.std(x_1)"
   ]
  },
  {
   "cell_type": "code",
   "execution_count": 21,
   "id": "b5a68c81-4083-43d0-a8ee-be2c1c240373",
   "metadata": {},
   "outputs": [
    {
     "data": {
      "text/plain": [
       "np.float64(326.0893282522444)"
      ]
     },
     "execution_count": 21,
     "metadata": {},
     "output_type": "execute_result"
    }
   ],
   "source": [
    "np.std(x_2)"
   ]
  },
  {
   "cell_type": "markdown",
   "id": "e16536d8-e5f5-499b-ab4c-efa5ec3cc95a",
   "metadata": {},
   "source": [
    "### Determining the Pearson correlation coefficient"
   ]
  },
  {
   "cell_type": "code",
   "execution_count": 96,
   "id": "4f211517-23e7-4dad-91ab-b13a5d5e54a5",
   "metadata": {},
   "outputs": [
    {
     "name": "stdout",
     "output_type": "stream",
     "text": [
      "[-37.5 -34.5 -29.5 -22.5 -13.5  -2.5  10.5  25.5  42.5  61.5]\n"
     ]
    }
   ],
   "source": [
    "x_1 = np.array([1, 4, 9, 16, 25, 36, 49, 64, 81, 100])\n",
    "np_array = x_1 - 38.5\n",
    "print(np_array)"
   ]
  },
  {
   "cell_type": "code",
   "execution_count": 92,
   "id": "d1927347-72b5-4676-8b60-24bd3fb21bfb",
   "metadata": {},
   "outputs": [
    {
     "name": "stdout",
     "output_type": "stream",
     "text": [
      "[-301.5 -294.5 -275.5 -238.5 -177.5  -86.5   40.5  209.5  426.5  697.5]\n"
     ]
    }
   ],
   "source": [
    "x_2 = np.array([1, 8, 27, 64, 125, 216, 343, 512, 729, 1000])\n",
    "np_array = x_2 - 302.5\n",
    "print(np_array)\n"
   ]
  },
  {
   "cell_type": "code",
   "execution_count": 97,
   "id": "c9069ee2-b919-4034-b6dd-aa8f4b159d4a",
   "metadata": {},
   "outputs": [
    {
     "name": "stdout",
     "output_type": "stream",
     "text": [
      "[11306.25 10160.25  8127.25  5366.25  2396.25   216.25   425.25  5342.25\n",
      " 18126.25 42896.25]\n"
     ]
    }
   ],
   "source": [
    "bo1 = np.array([-37.5, -34.5, -29.5, -22.5, -13.5, -2.5, 10.5, 25.5, 42.5, 61.5])\n",
    "bo2 = np.array([-301.5, -294.5, -275.5, -238.5, -177.5, -86.5, 40.5, 209.5, 426.5, 697.5])\n",
    "bo3 = bo1 * bo2\n",
    "print(bo3)"
   ]
  },
  {
   "cell_type": "code",
   "execution_count": 54,
   "id": "b56ac6ec-348a-4e6a-a1c0-4cd57436da31",
   "metadata": {},
   "outputs": [
    {
     "data": {
      "text/plain": [
       "np.float64(1368139.0503549885)"
      ]
     },
     "execution_count": 54,
     "metadata": {},
     "output_type": "execute_result"
    }
   ],
   "source": [
    "np.sqrt((bo1**2).sum() * (bo2**2).sum())\n"
   ]
  },
  {
   "cell_type": "code",
   "execution_count": 57,
   "id": "44217ab0-b9aa-4488-957b-5a917b30bc3d",
   "metadata": {},
   "outputs": [
    {
     "data": {
      "text/plain": [
       "np.float64(0.7772181487869207)"
      ]
     },
     "execution_count": 57,
     "metadata": {},
     "output_type": "execute_result"
    }
   ],
   "source": [
    "(bo3).sum()/1368139.0503549885"
   ]
  },
  {
   "cell_type": "code",
   "execution_count": 58,
   "id": "b267b60c-54f0-466d-a137-effb732e347e",
   "metadata": {},
   "outputs": [
    {
     "data": {
      "text/plain": [
       "np.float64(0.9871796626270701)"
      ]
     },
     "execution_count": 58,
     "metadata": {},
     "output_type": "execute_result"
    }
   ],
   "source": [
    "np.corrcoef(x_1,x_2)[0,1]"
   ]
  },
  {
   "cell_type": "code",
   "execution_count": null,
   "id": "b11517d9-a4f1-4852-b6c3-c1aa7b385ba5",
   "metadata": {},
   "outputs": [],
   "source": []
  }
 ],
 "metadata": {
  "kernelspec": {
   "display_name": "Python 3 (ipykernel)",
   "language": "python",
   "name": "python3"
  },
  "language_info": {
   "codemirror_mode": {
    "name": "ipython",
    "version": 3
   },
   "file_extension": ".py",
   "mimetype": "text/x-python",
   "name": "python",
   "nbconvert_exporter": "python",
   "pygments_lexer": "ipython3",
   "version": "3.12.3"
  },
  "toc": {
   "base_numbering": 1,
   "nav_menu": {},
   "number_sections": true,
   "sideBar": true,
   "skip_h1_title": false,
   "title_cell": "Table of Contents",
   "title_sidebar": "Contents",
   "toc_cell": false,
   "toc_position": {},
   "toc_section_display": true,
   "toc_window_display": false
  },
  "vscode": {
   "interpreter": {
    "hash": "31f2aee4e71d21fbe5cf8b01ff0e069b9275f58929596ceb00d14d90e3e16cd6"
   }
  }
 },
 "nbformat": 4,
 "nbformat_minor": 5
}
