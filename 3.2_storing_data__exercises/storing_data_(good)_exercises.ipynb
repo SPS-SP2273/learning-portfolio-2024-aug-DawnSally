{
 "cells": [
  {
   "attachments": {},
   "cell_type": "markdown",
   "id": "123456",
   "metadata": {},
   "source": [
    "<div style=\"text-align:left;font-size:2em\"><span style=\"font-weight:bolder;font-size:1.25em\">SP2273 | Learning Portfolio</span><br><br><span style=\"font-weight:bold;color:darkred\">Storing Data (Good) Exercises</span></div>"
   ]
  },
  {
   "cell_type": "markdown",
   "id": "d1898e22-4df1-4778-8e5d-a10d5f713fbe",
   "metadata": {},
   "source": [
    "# Exercise 1 (Total recall)"
   ]
  },
  {
   "cell_type": "markdown",
   "id": "ffa5c0cf-bcd8-47c1-b9ee-dd94dd4e62d6",
   "metadata": {},
   "source": [
    "| **Term** | **Brief description** |\n",
    "| :----- | :---------------------: |\n",
    "| Subsetting | Subsetting is used to identify whether certain elements are found in an array |\n",
    "| Indexing | *Indexing means to select one element from a sequence using its position* |\n",
    "| Slicing | Slicing is used to select a range of elements from a sequence |\n",
    "| Masking | Masking is to hide certain values in an array |"
   ]
  },
  {
   "cell_type": "markdown",
   "id": "3ddbb518-9b93-4bbf-b6fa-181100356acf",
   "metadata": {},
   "source": [
    "# Exercise 2 (Show me the 'odd' letters)"
   ]
  },
  {
   "cell_type": "code",
   "execution_count": 4,
   "id": "e13fbcc8-55be-4db5-8cb1-17fe963677d7",
   "metadata": {},
   "outputs": [],
   "source": [
    "import numpy as np"
   ]
  },
  {
   "cell_type": "code",
   "execution_count": 100,
   "id": "61b7ddbe-37f4-49c1-a848-58b3e18bf92d",
   "metadata": {},
   "outputs": [],
   "source": [
    "np_array_2d = np.array([[1, \"A\"], [3, \"C\"], [2, \"B\"], [4, \"D\"],\n",
    "                        [5, \"E\"], [7, \"G\"], [6, \"F\"], [8, \"H\"],\n",
    "                        [10, \"J\"], [9, \"I\"]])"
   ]
  },
  {
   "cell_type": "code",
   "execution_count": 107,
   "id": "3deca099-cdc8-4764-b5a8-4087b1bf4219",
   "metadata": {},
   "outputs": [
    {
     "name": "stdout",
     "output_type": "stream",
     "text": [
      "['1' '3' '2' '4' '5' '7' '6' '8' '10' '9']\n"
     ]
    }
   ],
   "source": [
    "first_elements = np_array_2d[:,0]\n",
    "print(first_elements)"
   ]
  },
  {
   "cell_type": "code",
   "execution_count": 125,
   "id": "f1a78d57-67d3-4359-abdc-2df25ede114f",
   "metadata": {},
   "outputs": [],
   "source": [
    "first_elements = first_elements.astype(int) %2 != 0"
   ]
  },
  {
   "cell_type": "code",
   "execution_count": 127,
   "id": "68c81b8b-a5ac-4061-b65f-0a898af50356",
   "metadata": {},
   "outputs": [
    {
     "name": "stdout",
     "output_type": "stream",
     "text": [
      "['A' 'C' 'E' 'G' 'I']\n"
     ]
    }
   ],
   "source": [
    "print(np_array_2d[first_elements,1])"
   ]
  },
  {
   "cell_type": "markdown",
   "id": "9b68fe6b-dd49-4dc9-8739-465f1a8fc278",
   "metadata": {},
   "source": [
    "# Exercise 3 "
   ]
  },
  {
   "cell_type": "code",
   "execution_count": 84,
   "id": "d7274e5f-b05b-4e9d-a977-a94ddc78f438",
   "metadata": {},
   "outputs": [],
   "source": [
    "np_array = np.array([[66, 50, 57, -1, -1],\n",
    " [92, -1, 88, -1, -1],\n",
    " [75, -1, -1, 76, -1],\n",
    " [-1, 51, 87, -1, -1],\n",
    " [71, -1, 67, -1, 69]])"
   ]
  },
  {
   "cell_type": "code",
   "execution_count": 90,
   "id": "408f5332-ea25-4ec0-8640-9cd19426c72b",
   "metadata": {},
   "outputs": [],
   "source": [
    "np_array[np_array < 50] = -1"
   ]
  },
  {
   "cell_type": "code",
   "execution_count": 91,
   "id": "a3de888a-f214-48e8-a4f5-0311ce0a37a7",
   "metadata": {},
   "outputs": [],
   "source": [
    "np_array[np_array > 50] = +1"
   ]
  },
  {
   "cell_type": "code",
   "execution_count": 92,
   "id": "0924c1b6-988b-446c-9650-f27dd4830bf2",
   "metadata": {},
   "outputs": [],
   "source": [
    "np_array[np_array == 50] = 0"
   ]
  },
  {
   "cell_type": "code",
   "execution_count": 93,
   "id": "6d70c5a7-6229-4aec-beb8-edf8d45ce624",
   "metadata": {},
   "outputs": [
    {
     "name": "stdout",
     "output_type": "stream",
     "text": [
      "[[ 1  0  1 -1 -1]\n",
      " [ 1 -1  1 -1 -1]\n",
      " [ 1 -1 -1  1 -1]\n",
      " [-1  1  1 -1 -1]\n",
      " [ 1 -1  1 -1  1]]\n"
     ]
    }
   ],
   "source": [
    "print(np_array)"
   ]
  }
 ],
 "metadata": {
  "kernelspec": {
   "display_name": "Python 3 (ipykernel)",
   "language": "python",
   "name": "python3"
  },
  "language_info": {
   "codemirror_mode": {
    "name": "ipython",
    "version": 3
   },
   "file_extension": ".py",
   "mimetype": "text/x-python",
   "name": "python",
   "nbconvert_exporter": "python",
   "pygments_lexer": "ipython3",
   "version": "3.12.3"
  },
  "toc": {
   "base_numbering": 1,
   "nav_menu": {},
   "number_sections": true,
   "sideBar": true,
   "skip_h1_title": false,
   "title_cell": "Table of Contents",
   "title_sidebar": "Contents",
   "toc_cell": false,
   "toc_position": {},
   "toc_section_display": true,
   "toc_window_display": false
  },
  "vscode": {
   "interpreter": {
    "hash": "31f2aee4e71d21fbe5cf8b01ff0e069b9275f58929596ceb00d14d90e3e16cd6"
   }
  }
 },
 "nbformat": 4,
 "nbformat_minor": 5
}
